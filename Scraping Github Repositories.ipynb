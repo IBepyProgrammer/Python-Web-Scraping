{
 "cells": [
  {
   "cell_type": "markdown",
   "id": "772f78e2",
   "metadata": {},
   "source": [
    "## Scraping top repositories for GitHub topics using Python"
   ]
  },
  {
   "cell_type": "markdown",
   "id": "9b38d1c9",
   "metadata": {},
   "source": [
    "Objectives: \n",
    "- 1.Use the requests library to download webpages\n",
    "- 2.Use beautiful soup to parse and extract information\n",
    "- 3.Create CSV file with the extracted information"
   ]
  },
  {
   "cell_type": "markdown",
   "id": "0c0ff306",
   "metadata": {},
   "source": [
    "* Step 1: Pick a website and describe your objective. \n",
    "   * For this examle we're going to scrape https://github.com/topics\n",
    "   * From the topics page, we will get a list of topics( the topics are arranged in alphabetical order ).\n",
    "   * For each topic we'll get the topic title and it's page URL.\n",
    "   * For each topic we'll get the top 20 repositories in the ti=opic from the topic page( eg: in the 3D topic, we can get the top 20 repositories for that topic. The repositories will have different technologies, username, stars and Repo URL. ( Thus we will grab the username/Repo name, stars and Repo URL.)\n",
    "   * For each topic we will create a CSV file in the following format:\n",
    "   \n",
    "   ```\n",
    "   Repo Name, UserName, Stars, Repo Url\n",
    "   three.js, mrdoob, 69700, https://github.com/mrdoob/three.js\n",
    "   libgdx, libgdx, 18300, https://github.com/libgdx/libgdx\n",
    "   \n",
    "   ```"
   ]
  },
  {
   "cell_type": "markdown",
   "id": "5bd198a6",
   "metadata": {},
   "source": [
    "Libraries used are:\n",
    "- Pandas\n",
    "- Requests\n",
    "- BeautifulSoup"
   ]
  },
  {
   "cell_type": "code",
   "execution_count": 1,
   "id": "4ca299d4",
   "metadata": {},
   "outputs": [],
   "source": [
    "import requests \n",
    "from bs4 import BeautifulSoup\n",
    "import pandas as pd"
   ]
  },
  {
   "cell_type": "markdown",
   "id": "0cbce6ce",
   "metadata": {},
   "source": [
    "- We can store the url of the page in a variable. We will then use the requests library to download the page."
   ]
  },
  {
   "cell_type": "code",
   "execution_count": 2,
   "id": "f9b0b916",
   "metadata": {},
   "outputs": [],
   "source": [
    "url = \"https://github.com/topics\""
   ]
  },
  {
   "cell_type": "code",
   "execution_count": 3,
   "id": "87e83597",
   "metadata": {},
   "outputs": [],
   "source": [
    "response = requests.get(url)"
   ]
  },
  {
   "cell_type": "code",
   "execution_count": 4,
   "id": "2f4ba1a3",
   "metadata": {},
   "outputs": [
    {
     "data": {
      "text/plain": [
       "200"
      ]
     },
     "execution_count": 4,
     "metadata": {},
     "output_type": "execute_result"
    }
   ],
   "source": [
    "response.status_code"
   ]
  },
  {
   "cell_type": "code",
   "execution_count": 5,
   "id": "e409dbf4",
   "metadata": {},
   "outputs": [
    {
     "name": "stdout",
     "output_type": "stream",
     "text": [
      "166161\n"
     ]
    }
   ],
   "source": [
    "print(len(response.text))"
   ]
  },
  {
   "cell_type": "markdown",
   "id": "afe2eb08",
   "metadata": {},
   "source": [
    "* The above output shows that there are 165726 characters."
   ]
  },
  {
   "cell_type": "markdown",
   "id": "b3b13ea3",
   "metadata": {},
   "source": [
    "You can print the entire text from the page but it is not reccomended as it might slow things down especially in notebooks running on browser tabs"
   ]
  },
  {
   "cell_type": "code",
   "execution_count": 6,
   "id": "756de2d3",
   "metadata": {},
   "outputs": [],
   "source": [
    "#print(response.text)"
   ]
  },
  {
   "cell_type": "markdown",
   "id": "f971db10",
   "metadata": {},
   "source": [
    "* Instesad we can look at the first few lines "
   ]
  },
  {
   "cell_type": "code",
   "execution_count": 7,
   "id": "d754b2a0",
   "metadata": {},
   "outputs": [],
   "source": [
    "page_content = response.text"
   ]
  },
  {
   "cell_type": "code",
   "execution_count": 8,
   "id": "0d748c5c",
   "metadata": {},
   "outputs": [
    {
     "data": {
      "text/plain": [
       "'\\n\\n<!DOCTYPE html>\\n<html lang=\"en\" data-color-mode=\"auto\" data-light-theme=\"light\" data-dark-theme=\"dark\"  data-a11y-animated-images=\"system\" data-a11y-link-underlines=\"false\">\\n\\n\\n  <head>\\n    <meta charset=\"utf-8\">\\n  <link rel=\"dns-prefetch\" href=\"https://github.githubassets.com\">\\n  <link rel=\"dns-prefetch\" href=\"https://avatars.githubusercontent.com\">\\n  <link rel=\"dns-prefetch\" href=\"https://github-cloud.s3.amazonaws.com\">\\n  <link rel=\"dns-prefetch\" href=\"https://user-images.githubusercontent.com/\">\\n  <link rel=\"preconnect\" href=\"https://github.githubassets.com\" crossorigin>\\n  <link rel=\"preconnect\" href=\"https://avatars.githubusercontent.com\">\\n\\n  \\n\\n  <link crossorigin=\"anonymous\" media=\"all\" rel=\"stylesheet\" href=\"https://github.githubassets.com/assets/light-983b05c0927a.css\" /><link crossorigin=\"anonymous\" media=\"all\" rel=\"stylesheet\" href=\"https://github.githubassets.com/assets/dark-5d486a4ede8e.css\" /><link data-color-theme=\"dark_dimmed\" crossorigin=\"anonymous\" media=\"all\" rel=\"sty'"
      ]
     },
     "execution_count": 8,
     "metadata": {},
     "output_type": "execute_result"
    }
   ],
   "source": [
    "page_content[:1000] # This will give the first 1000 lines of HTML for the site"
   ]
  },
  {
   "cell_type": "markdown",
   "id": "51cd20b2",
   "metadata": {},
   "source": [
    "* We can save the HTML of the site and save it locally. "
   ]
  },
  {
   "cell_type": "code",
   "execution_count": 9,
   "id": "a6dd0b6d",
   "metadata": {
    "scrolled": false
   },
   "outputs": [],
   "source": [
    "with open(\"webpage_sample.html\", \"w\", encoding=\"utf-8\") as f:\n",
    "    f.write(page_content)"
   ]
  },
  {
   "cell_type": "markdown",
   "id": "2037ccab",
   "metadata": {},
   "source": [
    "- We can now use beautiful soup to parse and extract  information from the text in the page."
   ]
  },
  {
   "cell_type": "code",
   "execution_count": 10,
   "id": "9df2e8ee",
   "metadata": {},
   "outputs": [],
   "source": [
    "soup = BeautifulSoup(page_content, \"html.parser\")"
   ]
  },
  {
   "cell_type": "code",
   "execution_count": 11,
   "id": "3d031a74",
   "metadata": {},
   "outputs": [
    {
     "data": {
      "text/plain": [
       "bs4.BeautifulSoup"
      ]
     },
     "execution_count": 11,
     "metadata": {},
     "output_type": "execute_result"
    }
   ],
   "source": [
    "type(soup)"
   ]
  },
  {
   "cell_type": "markdown",
   "id": "aa76df5c",
   "metadata": {},
   "source": [
    "### Lets try grabbing elements from the page.\n",
    "* This can be done by right clicking any the element and clicking inspect from the options in the browser."
   ]
  },
  {
   "cell_type": "markdown",
   "id": "49be8ccb",
   "metadata": {},
   "source": [
    "* Let's grab 3D. We can see in the inspect window of the HTML that the 3D is in the p-Tag.\n",
    "* We can do this by finding all the p-Tags in the page."
   ]
  },
  {
   "cell_type": "code",
   "execution_count": 12,
   "id": "3fd1e39c",
   "metadata": {},
   "outputs": [],
   "source": [
    "p_tags = soup.find_all(\"p\")"
   ]
  },
  {
   "cell_type": "code",
   "execution_count": 13,
   "id": "afb05253",
   "metadata": {},
   "outputs": [
    {
     "data": {
      "text/plain": [
       "69"
      ]
     },
     "execution_count": 13,
     "metadata": {},
     "output_type": "execute_result"
    }
   ],
   "source": [
    "len(p_tags)"
   ]
  },
  {
   "cell_type": "markdown",
   "id": "19d5ff07",
   "metadata": {},
   "source": [
    "* We observe that there are 69 p-Tags, but if we look at the page, we cannot see 69 topics being displayed on the page currently. This is because we are grabbing more tags than we actually need.\n",
    "* We can solve this problem by search using the specific class associated with the Tag in question.  "
   ]
  },
  {
   "cell_type": "code",
   "execution_count": 14,
   "id": "849e5415",
   "metadata": {},
   "outputs": [],
   "source": [
    "p_tags_topics = soup.find_all(\"p\", class_ = \"f3 lh-condensed mb-0 mt-1 Link--primary\")\n",
    "#p_tags_topics = soup.find_all(\"p\", {\"class\" = \"f3 lh-condensed mb-0 mt-1 Link--primary\"}) # more generic"
   ]
  },
  {
   "cell_type": "code",
   "execution_count": 15,
   "id": "08af1f57",
   "metadata": {},
   "outputs": [
    {
     "data": {
      "text/plain": [
       "30"
      ]
     },
     "execution_count": 15,
     "metadata": {},
     "output_type": "execute_result"
    }
   ],
   "source": [
    "len(p_tags_topics)"
   ]
  },
  {
   "cell_type": "markdown",
   "id": "25689fa8",
   "metadata": {},
   "source": [
    "* The 30 p-tags above means that there are probably 30 topics currently displayed on the webpage"
   ]
  },
  {
   "cell_type": "code",
   "execution_count": 16,
   "id": "3ec1abf1",
   "metadata": {},
   "outputs": [
    {
     "data": {
      "text/plain": [
       "[<p class=\"f3 lh-condensed mb-0 mt-1 Link--primary\">3D</p>,\n",
       " <p class=\"f3 lh-condensed mb-0 mt-1 Link--primary\">Ajax</p>,\n",
       " <p class=\"f3 lh-condensed mb-0 mt-1 Link--primary\">Algorithm</p>,\n",
       " <p class=\"f3 lh-condensed mb-0 mt-1 Link--primary\">Amp</p>,\n",
       " <p class=\"f3 lh-condensed mb-0 mt-1 Link--primary\">Android</p>,\n",
       " <p class=\"f3 lh-condensed mb-0 mt-1 Link--primary\">Angular</p>,\n",
       " <p class=\"f3 lh-condensed mb-0 mt-1 Link--primary\">Ansible</p>,\n",
       " <p class=\"f3 lh-condensed mb-0 mt-1 Link--primary\">API</p>,\n",
       " <p class=\"f3 lh-condensed mb-0 mt-1 Link--primary\">Arduino</p>,\n",
       " <p class=\"f3 lh-condensed mb-0 mt-1 Link--primary\">ASP.NET</p>,\n",
       " <p class=\"f3 lh-condensed mb-0 mt-1 Link--primary\">Atom</p>,\n",
       " <p class=\"f3 lh-condensed mb-0 mt-1 Link--primary\">Awesome Lists</p>,\n",
       " <p class=\"f3 lh-condensed mb-0 mt-1 Link--primary\">Amazon Web Services</p>,\n",
       " <p class=\"f3 lh-condensed mb-0 mt-1 Link--primary\">Azure</p>,\n",
       " <p class=\"f3 lh-condensed mb-0 mt-1 Link--primary\">Babel</p>,\n",
       " <p class=\"f3 lh-condensed mb-0 mt-1 Link--primary\">Bash</p>,\n",
       " <p class=\"f3 lh-condensed mb-0 mt-1 Link--primary\">Bitcoin</p>,\n",
       " <p class=\"f3 lh-condensed mb-0 mt-1 Link--primary\">Bootstrap</p>,\n",
       " <p class=\"f3 lh-condensed mb-0 mt-1 Link--primary\">Bot</p>,\n",
       " <p class=\"f3 lh-condensed mb-0 mt-1 Link--primary\">C</p>,\n",
       " <p class=\"f3 lh-condensed mb-0 mt-1 Link--primary\">Chrome</p>,\n",
       " <p class=\"f3 lh-condensed mb-0 mt-1 Link--primary\">Chrome extension</p>,\n",
       " <p class=\"f3 lh-condensed mb-0 mt-1 Link--primary\">Command line interface</p>,\n",
       " <p class=\"f3 lh-condensed mb-0 mt-1 Link--primary\">Clojure</p>,\n",
       " <p class=\"f3 lh-condensed mb-0 mt-1 Link--primary\">Code quality</p>,\n",
       " <p class=\"f3 lh-condensed mb-0 mt-1 Link--primary\">Code review</p>,\n",
       " <p class=\"f3 lh-condensed mb-0 mt-1 Link--primary\">Compiler</p>,\n",
       " <p class=\"f3 lh-condensed mb-0 mt-1 Link--primary\">Continuous integration</p>,\n",
       " <p class=\"f3 lh-condensed mb-0 mt-1 Link--primary\">COVID-19</p>,\n",
       " <p class=\"f3 lh-condensed mb-0 mt-1 Link--primary\">C++</p>]"
      ]
     },
     "execution_count": 16,
     "metadata": {},
     "output_type": "execute_result"
    }
   ],
   "source": [
    "p_tags_topics"
   ]
  },
  {
   "cell_type": "markdown",
   "id": "41586ac3",
   "metadata": {},
   "source": [
    "### Let's now find the coresponding descriptions of the above topics"
   ]
  },
  {
   "cell_type": "code",
   "execution_count": 17,
   "id": "d7d15f78",
   "metadata": {},
   "outputs": [],
   "source": [
    "p_tags_topics_description = soup.find_all(\"p\", class_ = \"f5 color-fg-muted mb-0 mt-1\")"
   ]
  },
  {
   "cell_type": "code",
   "execution_count": 18,
   "id": "b01fe1d1",
   "metadata": {},
   "outputs": [
    {
     "data": {
      "text/plain": [
       "[<p class=\"f5 color-fg-muted mb-0 mt-1\">\n",
       "           3D refers to the use of three-dimensional graphics, modeling, and animation in various industries.\n",
       "         </p>,\n",
       " <p class=\"f5 color-fg-muted mb-0 mt-1\">\n",
       "           Ajax is a technique for creating interactive web applications.\n",
       "         </p>,\n",
       " <p class=\"f5 color-fg-muted mb-0 mt-1\">\n",
       "           Algorithms are self-contained sequences that carry out a variety of tasks.\n",
       "         </p>,\n",
       " <p class=\"f5 color-fg-muted mb-0 mt-1\">\n",
       "           Amp is a non-blocking concurrency library for PHP.\n",
       "         </p>,\n",
       " <p class=\"f5 color-fg-muted mb-0 mt-1\">\n",
       "           Android is an operating system built by Google designed for mobile devices.\n",
       "         </p>]"
      ]
     },
     "execution_count": 18,
     "metadata": {},
     "output_type": "execute_result"
    }
   ],
   "source": [
    "# Let's print the first 5 topic descriptions.\n",
    "p_tags_topics_description[:5]"
   ]
  },
  {
   "cell_type": "markdown",
   "id": "3c27cc4b",
   "metadata": {},
   "source": [
    "- Next we get the URL of to the topic page because from the page we will download more information using the link, since the topics have URL to repositories that have the topics selected and more information on the topic other than the description."
   ]
  },
  {
   "cell_type": "code",
   "execution_count": 19,
   "id": "dc8f1f31",
   "metadata": {},
   "outputs": [],
   "source": [
    "topic_urls = soup.find_all(\"a\", class_ = \"no-underline flex-1 d-flex flex-column\")"
   ]
  },
  {
   "cell_type": "code",
   "execution_count": 20,
   "id": "0f523f56",
   "metadata": {},
   "outputs": [
    {
     "data": {
      "text/plain": [
       "30"
      ]
     },
     "execution_count": 20,
     "metadata": {},
     "output_type": "execute_result"
    }
   ],
   "source": [
    "len(topic_urls)"
   ]
  },
  {
   "cell_type": "code",
   "execution_count": 21,
   "id": "1b35274b",
   "metadata": {},
   "outputs": [
    {
     "data": {
      "text/plain": [
       "<a class=\"no-underline flex-1 d-flex flex-column\" href=\"/topics/3d\">\n",
       "<p class=\"f3 lh-condensed mb-0 mt-1 Link--primary\">3D</p>\n",
       "<p class=\"f5 color-fg-muted mb-0 mt-1\">\n",
       "          3D refers to the use of three-dimensional graphics, modeling, and animation in various industries.\n",
       "        </p>\n",
       "</a>"
      ]
     },
     "execution_count": 21,
     "metadata": {},
     "output_type": "execute_result"
    }
   ],
   "source": [
    "topic_urls[0]"
   ]
  },
  {
   "cell_type": "markdown",
   "id": "1d892617",
   "metadata": {},
   "source": [
    "- We can construct the url to the pages. Lets construct for a topic in the page."
   ]
  },
  {
   "cell_type": "code",
   "execution_count": 22,
   "id": "82e31382",
   "metadata": {},
   "outputs": [
    {
     "name": "stdout",
     "output_type": "stream",
     "text": [
      "https://github.com/topics/3d\n"
     ]
    }
   ],
   "source": [
    "topic0_url = \"https://github.com\" + topic_urls[0][\"href\"]\n",
    "print(topic0_url)"
   ]
  },
  {
   "cell_type": "markdown",
   "id": "09ce9cb1",
   "metadata": {},
   "source": [
    "- We can clean up the topics by removing the tags and only obtaining the text."
   ]
  },
  {
   "cell_type": "code",
   "execution_count": 23,
   "id": "0faaf52a",
   "metadata": {},
   "outputs": [
    {
     "data": {
      "text/plain": [
       "<p class=\"f3 lh-condensed mb-0 mt-1 Link--primary\">3D</p>"
      ]
     },
     "execution_count": 23,
     "metadata": {},
     "output_type": "execute_result"
    }
   ],
   "source": [
    "p_tags_topics[0]"
   ]
  },
  {
   "cell_type": "code",
   "execution_count": 24,
   "id": "9abdce9a",
   "metadata": {},
   "outputs": [
    {
     "name": "stdout",
     "output_type": "stream",
     "text": [
      "['3D', 'Ajax', 'Algorithm', 'Amp', 'Android', 'Angular', 'Ansible', 'API', 'Arduino', 'ASP.NET', 'Atom', 'Awesome Lists', 'Amazon Web Services', 'Azure', 'Babel', 'Bash', 'Bitcoin', 'Bootstrap', 'Bot', 'C', 'Chrome', 'Chrome extension', 'Command line interface', 'Clojure', 'Code quality', 'Code review', 'Compiler', 'Continuous integration', 'COVID-19', 'C++']\n"
     ]
    }
   ],
   "source": [
    "topic_titles = []\n",
    "\n",
    "for tag in p_tags_topics:\n",
    "    title = tag.text\n",
    "    topic_titles.append(title)\n",
    "    \n",
    "    \n",
    "print(topic_titles)    "
   ]
  },
  {
   "cell_type": "markdown",
   "id": "c218d5b8",
   "metadata": {},
   "source": [
    "> We now have a list of all the titles without the corresponding tags"
   ]
  },
  {
   "cell_type": "markdown",
   "id": "3c95fa78",
   "metadata": {},
   "source": [
    "- Lets do the same for the topic descriptions and the topic URLs"
   ]
  },
  {
   "cell_type": "code",
   "execution_count": 25,
   "id": "8b6da47d",
   "metadata": {},
   "outputs": [
    {
     "name": "stdout",
     "output_type": "stream",
     "text": [
      "['3D refers to the use of three-dimensional graphics, modeling, and animation in various industries.', 'Ajax is a technique for creating interactive web applications.', 'Algorithms are self-contained sequences that carry out a variety of tasks.', 'Amp is a non-blocking concurrency library for PHP.', 'Android is an operating system built by Google designed for mobile devices.', 'Angular is an open source web application platform.', 'Ansible is a simple and powerful automation engine.', 'An API (Application Programming Interface) is a collection of protocols and subroutines for building software.', 'Arduino is an open source platform for building electronic devices.', 'ASP.NET is a web framework for building modern web apps and services.', 'Atom is a open source text editor built with web technologies.', 'An awesome list is a list of awesome things curated by the community.', 'Amazon Web Services provides on-demand cloud computing platforms on a subscription basis.', 'Azure is a cloud computing service created by Microsoft.', 'Babel is a compiler for writing next generation JavaScript, today.', 'Bash is a shell and command language interpreter for the GNU operating system.', 'Bitcoin is a cryptocurrency developed by Satoshi Nakamoto.', 'Bootstrap is an HTML, CSS, and JavaScript framework.', 'A bot is an application that runs automated tasks over the Internet.', 'C is a general purpose programming language that first appeared in 1972.', 'Chrome is a web browser from the tech company Google.', 'Chrome extensions enable users to customize the Chrome browsing experience.', 'A CLI, or command-line interface, is a console that helps users issue commands to a program.', 'Clojure is a dynamic, general-purpose programming language.', 'Automate your code review with style, quality, security, and test‑coverage checks when you need them.', 'Ensure your code meets quality standards and ship with confidence.', 'Compilers are software that translate higher-level programming languages to lower-level languages (e.g. machine code).', 'Automatically build and test your code as you push it upstream, preventing bugs from being deployed to production.', 'The coronavirus disease 2019 (COVID-19) is an infectious disease caused by SARS-CoV-2.', 'C++ is a general purpose and object-oriented programming language.']\n"
     ]
    }
   ],
   "source": [
    "topic_descriptions = []\n",
    "\n",
    "for tag in p_tags_topics_description:\n",
    "    title_descs = tag.text\n",
    "    topic_descriptions.append(title_descs.strip())\n",
    "    \n",
    "# The strip method removes any blank spaces in the text    \n",
    "print(topic_descriptions)    "
   ]
  },
  {
   "cell_type": "code",
   "execution_count": 26,
   "id": "40e89823",
   "metadata": {},
   "outputs": [
    {
     "data": {
      "text/plain": [
       "['https://github.com/topics/3d',\n",
       " 'https://github.com/topics/ajax',\n",
       " 'https://github.com/topics/algorithm',\n",
       " 'https://github.com/topics/amphp',\n",
       " 'https://github.com/topics/android',\n",
       " 'https://github.com/topics/angular',\n",
       " 'https://github.com/topics/ansible',\n",
       " 'https://github.com/topics/api',\n",
       " 'https://github.com/topics/arduino',\n",
       " 'https://github.com/topics/aspnet',\n",
       " 'https://github.com/topics/atom',\n",
       " 'https://github.com/topics/awesome',\n",
       " 'https://github.com/topics/aws',\n",
       " 'https://github.com/topics/azure',\n",
       " 'https://github.com/topics/babel',\n",
       " 'https://github.com/topics/bash',\n",
       " 'https://github.com/topics/bitcoin',\n",
       " 'https://github.com/topics/bootstrap',\n",
       " 'https://github.com/topics/bot',\n",
       " 'https://github.com/topics/c',\n",
       " 'https://github.com/topics/chrome',\n",
       " 'https://github.com/topics/chrome-extension',\n",
       " 'https://github.com/topics/cli',\n",
       " 'https://github.com/topics/clojure',\n",
       " 'https://github.com/topics/code-quality',\n",
       " 'https://github.com/topics/code-review',\n",
       " 'https://github.com/topics/compiler',\n",
       " 'https://github.com/topics/continuous-integration',\n",
       " 'https://github.com/topics/covid-19',\n",
       " 'https://github.com/topics/cpp']"
      ]
     },
     "execution_count": 26,
     "metadata": {},
     "output_type": "execute_result"
    }
   ],
   "source": [
    "topic_titles_url = []\n",
    "base_url = \"https://github.com\"\n",
    "\n",
    "for tag in topic_urls:\n",
    "    topic_titles_url.append(base_url + tag[\"href\"])\n",
    "    \n",
    "    \n",
    "topic_titles_url    "
   ]
  },
  {
   "cell_type": "markdown",
   "id": "c9c19660",
   "metadata": {},
   "source": [
    "## Let's create a dataframe and save the above data into a CSV file"
   ]
  },
  {
   "cell_type": "code",
   "execution_count": 27,
   "id": "157a19af",
   "metadata": {},
   "outputs": [],
   "source": [
    "topics_dictionary = {\n",
    "    \"title\": topic_titles,\n",
    "    \"description\": topic_descriptions,\n",
    "    \"url\": topic_titles_url\n",
    "}"
   ]
  },
  {
   "cell_type": "code",
   "execution_count": 28,
   "id": "46223870",
   "metadata": {},
   "outputs": [],
   "source": [
    "topics_df = pd.DataFrame(topics_dictionary)"
   ]
  },
  {
   "cell_type": "code",
   "execution_count": 29,
   "id": "826cb804",
   "metadata": {},
   "outputs": [
    {
     "data": {
      "text/html": [
       "<div>\n",
       "<style scoped>\n",
       "    .dataframe tbody tr th:only-of-type {\n",
       "        vertical-align: middle;\n",
       "    }\n",
       "\n",
       "    .dataframe tbody tr th {\n",
       "        vertical-align: top;\n",
       "    }\n",
       "\n",
       "    .dataframe thead th {\n",
       "        text-align: right;\n",
       "    }\n",
       "</style>\n",
       "<table border=\"1\" class=\"dataframe\">\n",
       "  <thead>\n",
       "    <tr style=\"text-align: right;\">\n",
       "      <th></th>\n",
       "      <th>title</th>\n",
       "      <th>description</th>\n",
       "      <th>url</th>\n",
       "    </tr>\n",
       "  </thead>\n",
       "  <tbody>\n",
       "    <tr>\n",
       "      <th>0</th>\n",
       "      <td>3D</td>\n",
       "      <td>3D refers to the use of three-dimensional grap...</td>\n",
       "      <td>https://github.com/topics/3d</td>\n",
       "    </tr>\n",
       "    <tr>\n",
       "      <th>1</th>\n",
       "      <td>Ajax</td>\n",
       "      <td>Ajax is a technique for creating interactive w...</td>\n",
       "      <td>https://github.com/topics/ajax</td>\n",
       "    </tr>\n",
       "    <tr>\n",
       "      <th>2</th>\n",
       "      <td>Algorithm</td>\n",
       "      <td>Algorithms are self-contained sequences that c...</td>\n",
       "      <td>https://github.com/topics/algorithm</td>\n",
       "    </tr>\n",
       "    <tr>\n",
       "      <th>3</th>\n",
       "      <td>Amp</td>\n",
       "      <td>Amp is a non-blocking concurrency library for ...</td>\n",
       "      <td>https://github.com/topics/amphp</td>\n",
       "    </tr>\n",
       "    <tr>\n",
       "      <th>4</th>\n",
       "      <td>Android</td>\n",
       "      <td>Android is an operating system built by Google...</td>\n",
       "      <td>https://github.com/topics/android</td>\n",
       "    </tr>\n",
       "  </tbody>\n",
       "</table>\n",
       "</div>"
      ],
      "text/plain": [
       "       title                                        description  \\\n",
       "0         3D  3D refers to the use of three-dimensional grap...   \n",
       "1       Ajax  Ajax is a technique for creating interactive w...   \n",
       "2  Algorithm  Algorithms are self-contained sequences that c...   \n",
       "3        Amp  Amp is a non-blocking concurrency library for ...   \n",
       "4    Android  Android is an operating system built by Google...   \n",
       "\n",
       "                                   url  \n",
       "0         https://github.com/topics/3d  \n",
       "1       https://github.com/topics/ajax  \n",
       "2  https://github.com/topics/algorithm  \n",
       "3      https://github.com/topics/amphp  \n",
       "4    https://github.com/topics/android  "
      ]
     },
     "execution_count": 29,
     "metadata": {},
     "output_type": "execute_result"
    }
   ],
   "source": [
    "topics_df.head()"
   ]
  },
  {
   "cell_type": "markdown",
   "id": "b6c980b3",
   "metadata": {},
   "source": [
    "### Let's save the above dataframe into a CSV file."
   ]
  },
  {
   "cell_type": "code",
   "execution_count": 30,
   "id": "4d8ca5e4",
   "metadata": {},
   "outputs": [],
   "source": [
    "topics_df.to_csv(\"GitHub_Sample.csv\", index=None)"
   ]
  },
  {
   "cell_type": "markdown",
   "id": "7b14cf10",
   "metadata": {},
   "source": [
    "# Let's get information from a single topic page URL"
   ]
  },
  {
   "cell_type": "code",
   "execution_count": 31,
   "id": "a81285a6",
   "metadata": {},
   "outputs": [],
   "source": [
    "topic_page_url = topic_titles_url[0]"
   ]
  },
  {
   "cell_type": "code",
   "execution_count": 32,
   "id": "7d3d625b",
   "metadata": {},
   "outputs": [
    {
     "data": {
      "text/plain": [
       "'https://github.com/topics/3d'"
      ]
     },
     "execution_count": 32,
     "metadata": {},
     "output_type": "execute_result"
    }
   ],
   "source": [
    "topic_page_url"
   ]
  },
  {
   "cell_type": "code",
   "execution_count": 33,
   "id": "8f8e95ab",
   "metadata": {},
   "outputs": [],
   "source": [
    "response = requests.get(topic_page_url)"
   ]
  },
  {
   "cell_type": "code",
   "execution_count": 34,
   "id": "2049b270",
   "metadata": {},
   "outputs": [
    {
     "data": {
      "text/plain": [
       "200"
      ]
     },
     "execution_count": 34,
     "metadata": {},
     "output_type": "execute_result"
    }
   ],
   "source": [
    "response.status_code"
   ]
  },
  {
   "cell_type": "code",
   "execution_count": 35,
   "id": "5228477d",
   "metadata": {},
   "outputs": [
    {
     "data": {
      "text/plain": [
       "477262"
      ]
     },
     "execution_count": 35,
     "metadata": {},
     "output_type": "execute_result"
    }
   ],
   "source": [
    "len(response.text)"
   ]
  },
  {
   "cell_type": "code",
   "execution_count": 36,
   "id": "84052653",
   "metadata": {},
   "outputs": [],
   "source": [
    "soup_topic = BeautifulSoup(response.text, \"html.parser\")"
   ]
  },
  {
   "cell_type": "markdown",
   "id": "517b5484",
   "metadata": {},
   "source": [
    "- Lets now find the information about the first repository which has the Username/Repo Name, the Repository(which is a link) and the number of stars"
   ]
  },
  {
   "cell_type": "code",
   "execution_count": 37,
   "id": "1ccd3b6d",
   "metadata": {},
   "outputs": [],
   "source": [
    "repository_tags = soup_topic.find_all(\"h3\", class_ = \"f3 color-fg-muted text-normal lh-condensed\")"
   ]
  },
  {
   "cell_type": "code",
   "execution_count": 38,
   "id": "f7247f9f",
   "metadata": {},
   "outputs": [
    {
     "data": {
      "text/plain": [
       "20"
      ]
     },
     "execution_count": 38,
     "metadata": {},
     "output_type": "execute_result"
    }
   ],
   "source": [
    "len(repository_tags)"
   ]
  },
  {
   "cell_type": "code",
   "execution_count": 39,
   "id": "6f407ac2",
   "metadata": {
    "scrolled": false
   },
   "outputs": [
    {
     "name": "stdout",
     "output_type": "stream",
     "text": [
      "[<h3 class=\"f3 color-fg-muted text-normal lh-condensed\">\n",
      "<a class=\"Link\" data-hydro-click='{\"event_type\":\"explore.click\",\"payload\":{\"click_context\":\"REPOSITORY_CARD\",\"click_target\":\"OWNER\",\"click_visual_representation\":\"REPOSITORY_OWNER_HEADING\",\"actor_id\":null,\"record_id\":97088,\"originating_url\":\"https://github.com/topics/3d\",\"user_id\":null}}' data-hydro-click-hmac=\"4bdbc49d3c05ae7f70b531fbce709a384200b0768554e0172950286a8db30940\" data-turbo=\"false\" data-view-component=\"true\" href=\"/mrdoob\">\n",
      "            mrdoob\n",
      "</a>          /\n",
      "          <a class=\"Link text-bold wb-break-word\" data-hydro-click='{\"event_type\":\"explore.click\",\"payload\":{\"click_context\":\"REPOSITORY_CARD\",\"click_target\":\"REPOSITORY\",\"click_visual_representation\":\"REPOSITORY_NAME_HEADING\",\"actor_id\":null,\"record_id\":576201,\"originating_url\":\"https://github.com/topics/3d\",\"user_id\":null}}' data-hydro-click-hmac=\"517d3d5cb9d89752156923904a4238816bc9b51ab7772f3e3644ce897d8dd4e5\" data-turbo=\"false\" data-view-component=\"true\" href=\"/mrdoob/three.js\">\n",
      "            three.js\n",
      "</a> </h3>, <h3 class=\"f3 color-fg-muted text-normal lh-condensed\">\n",
      "<a class=\"Link\" data-hydro-click='{\"event_type\":\"explore.click\",\"payload\":{\"click_context\":\"REPOSITORY_CARD\",\"click_target\":\"OWNER\",\"click_visual_representation\":\"REPOSITORY_OWNER_HEADING\",\"actor_id\":null,\"record_id\":45790596,\"originating_url\":\"https://github.com/topics/3d\",\"user_id\":null}}' data-hydro-click-hmac=\"14658fab6217ec4ba70f16dd98006d4334793fae49cc25ce2e1c0bb5a8950006\" data-turbo=\"false\" data-view-component=\"true\" href=\"/pmndrs\">\n",
      "            pmndrs\n",
      "</a>          /\n",
      "          <a class=\"Link text-bold wb-break-word\" data-hydro-click='{\"event_type\":\"explore.click\",\"payload\":{\"click_context\":\"REPOSITORY_CARD\",\"click_target\":\"REPOSITORY\",\"click_visual_representation\":\"REPOSITORY_NAME_HEADING\",\"actor_id\":null,\"record_id\":172521926,\"originating_url\":\"https://github.com/topics/3d\",\"user_id\":null}}' data-hydro-click-hmac=\"629be4efc1260d27fe29201a1901eb808cbf995e4a51d877282b7164242dbadf\" data-turbo=\"false\" data-view-component=\"true\" href=\"/pmndrs/react-three-fiber\">\n",
      "            react-three-fiber\n",
      "</a> </h3>, <h3 class=\"f3 color-fg-muted text-normal lh-condensed\">\n",
      "<a class=\"Link\" data-hydro-click='{\"event_type\":\"explore.click\",\"payload\":{\"click_context\":\"REPOSITORY_CARD\",\"click_target\":\"OWNER\",\"click_visual_representation\":\"REPOSITORY_OWNER_HEADING\",\"actor_id\":null,\"record_id\":509841,\"originating_url\":\"https://github.com/topics/3d\",\"user_id\":null}}' data-hydro-click-hmac=\"760dcd7b253cb1a27d9b1a8675e86db885295be4e0d8d9fa7397adf923075d36\" data-turbo=\"false\" data-view-component=\"true\" href=\"/libgdx\">\n",
      "            libgdx\n",
      "</a>          /\n",
      "          <a class=\"Link text-bold wb-break-word\" data-hydro-click='{\"event_type\":\"explore.click\",\"payload\":{\"click_context\":\"REPOSITORY_CARD\",\"click_target\":\"REPOSITORY\",\"click_visual_representation\":\"REPOSITORY_NAME_HEADING\",\"actor_id\":null,\"record_id\":5373551,\"originating_url\":\"https://github.com/topics/3d\",\"user_id\":null}}' data-hydro-click-hmac=\"ff9d8fbd4b6a268d54aa44ebd06922a789e146ae9d21db01b8ba7839646f5507\" data-turbo=\"false\" data-view-component=\"true\" href=\"/libgdx/libgdx\">\n",
      "            libgdx\n",
      "</a> </h3>, <h3 class=\"f3 color-fg-muted text-normal lh-condensed\">\n",
      "<a class=\"Link\" data-hydro-click='{\"event_type\":\"explore.click\",\"payload\":{\"click_context\":\"REPOSITORY_CARD\",\"click_target\":\"OWNER\",\"click_visual_representation\":\"REPOSITORY_OWNER_HEADING\",\"actor_id\":null,\"record_id\":4855800,\"originating_url\":\"https://github.com/topics/3d\",\"user_id\":null}}' data-hydro-click-hmac=\"35041b8540fc503301f61f50122b6ae6d1b78719943ab6392df86920498edb30\" data-turbo=\"false\" data-view-component=\"true\" href=\"/BabylonJS\">\n",
      "            BabylonJS\n",
      "</a>          /\n",
      "          <a class=\"Link text-bold wb-break-word\" data-hydro-click='{\"event_type\":\"explore.click\",\"payload\":{\"click_context\":\"REPOSITORY_CARD\",\"click_target\":\"REPOSITORY\",\"click_visual_representation\":\"REPOSITORY_NAME_HEADING\",\"actor_id\":null,\"record_id\":11007313,\"originating_url\":\"https://github.com/topics/3d\",\"user_id\":null}}' data-hydro-click-hmac=\"2806ba0b1f7f4081c38662a53b466b7bc022050b5dafe4108bfab142f5214b41\" data-turbo=\"false\" data-view-component=\"true\" href=\"/BabylonJS/Babylon.js\">\n",
      "            Babylon.js\n",
      "</a> </h3>, <h3 class=\"f3 color-fg-muted text-normal lh-condensed\">\n",
      "<a class=\"Link\" data-hydro-click='{\"event_type\":\"explore.click\",\"payload\":{\"click_context\":\"REPOSITORY_CARD\",\"click_target\":\"OWNER\",\"click_visual_representation\":\"REPOSITORY_OWNER_HEADING\",\"actor_id\":null,\"record_id\":1029298,\"originating_url\":\"https://github.com/topics/3d\",\"user_id\":null}}' data-hydro-click-hmac=\"35cf14368807d0a0abce48667cf2c0778c4e44ceeb4edde9a860e17a9efe6443\" data-turbo=\"false\" data-view-component=\"true\" href=\"/ssloy\">\n",
      "            ssloy\n",
      "</a>          /\n",
      "          <a class=\"Link text-bold wb-break-word\" data-hydro-click='{\"event_type\":\"explore.click\",\"payload\":{\"click_context\":\"REPOSITORY_CARD\",\"click_target\":\"REPOSITORY\",\"click_visual_representation\":\"REPOSITORY_NAME_HEADING\",\"actor_id\":null,\"record_id\":29397594,\"originating_url\":\"https://github.com/topics/3d\",\"user_id\":null}}' data-hydro-click-hmac=\"b27b44faaea7b496d3a92fd58b20e39b4306098a16dc535f3a74969bd25fc472\" data-turbo=\"false\" data-view-component=\"true\" href=\"/ssloy/tinyrenderer\">\n",
      "            tinyrenderer\n",
      "</a> </h3>, <h3 class=\"f3 color-fg-muted text-normal lh-condensed\">\n",
      "<a class=\"Link\" data-hydro-click='{\"event_type\":\"explore.click\",\"payload\":{\"click_context\":\"REPOSITORY_CARD\",\"click_target\":\"OWNER\",\"click_visual_representation\":\"REPOSITORY_OWNER_HEADING\",\"actor_id\":null,\"record_id\":1661343,\"originating_url\":\"https://github.com/topics/3d\",\"user_id\":null}}' data-hydro-click-hmac=\"92e006e158e11505867ec48dd3b1f9f2e0a12e03556d650ac6163f635b6018db\" data-turbo=\"false\" data-view-component=\"true\" href=\"/lettier\">\n",
      "            lettier\n",
      "</a>          /\n",
      "          <a class=\"Link text-bold wb-break-word\" data-hydro-click='{\"event_type\":\"explore.click\",\"payload\":{\"click_context\":\"REPOSITORY_CARD\",\"click_target\":\"REPOSITORY\",\"click_visual_representation\":\"REPOSITORY_NAME_HEADING\",\"actor_id\":null,\"record_id\":186309296,\"originating_url\":\"https://github.com/topics/3d\",\"user_id\":null}}' data-hydro-click-hmac=\"632d2fdc55d44af08fe1e943134b255567a5fc78d44f267f13687602afc3c8f4\" data-turbo=\"false\" data-view-component=\"true\" href=\"/lettier/3d-game-shaders-for-beginners\">\n",
      "            3d-game-shaders-for-beginners\n",
      "</a> </h3>, <h3 class=\"f3 color-fg-muted text-normal lh-condensed\">\n",
      "<a class=\"Link\" data-hydro-click='{\"event_type\":\"explore.click\",\"payload\":{\"click_context\":\"REPOSITORY_CARD\",\"click_target\":\"OWNER\",\"click_visual_representation\":\"REPOSITORY_OWNER_HEADING\",\"actor_id\":null,\"record_id\":16024092,\"originating_url\":\"https://github.com/topics/3d\",\"user_id\":null}}' data-hydro-click-hmac=\"b3db1ab47cddd377d61855a33924676044d55c8724ce9233f202e64b2a59e40e\" data-turbo=\"false\" data-view-component=\"true\" href=\"/aframevr\">\n",
      "            aframevr\n",
      "</a>          /\n",
      "          <a class=\"Link text-bold wb-break-word\" data-hydro-click='{\"event_type\":\"explore.click\",\"payload\":{\"click_context\":\"REPOSITORY_CARD\",\"click_target\":\"REPOSITORY\",\"click_visual_representation\":\"REPOSITORY_NAME_HEADING\",\"actor_id\":null,\"record_id\":42488903,\"originating_url\":\"https://github.com/topics/3d\",\"user_id\":null}}' data-hydro-click-hmac=\"1e97be781c78a538510c9e0a7eb97d3d14666ccab0fce09440cf2ef4f543317a\" data-turbo=\"false\" data-view-component=\"true\" href=\"/aframevr/aframe\">\n",
      "            aframe\n",
      "</a> </h3>, <h3 class=\"f3 color-fg-muted text-normal lh-condensed\">\n",
      "<a class=\"Link\" data-hydro-click='{\"event_type\":\"explore.click\",\"payload\":{\"click_context\":\"REPOSITORY_CARD\",\"click_target\":\"OWNER\",\"click_visual_representation\":\"REPOSITORY_OWNER_HEADING\",\"actor_id\":null,\"record_id\":2306237,\"originating_url\":\"https://github.com/topics/3d\",\"user_id\":null}}' data-hydro-click-hmac=\"a27e82740ebd440eb8aec51759f134d74f147b9f07c9e1b2a8e960ff36c0e0dd\" data-turbo=\"false\" data-view-component=\"true\" href=\"/FreeCAD\">\n",
      "            FreeCAD\n",
      "</a>          /\n",
      "          <a class=\"Link text-bold wb-break-word\" data-hydro-click='{\"event_type\":\"explore.click\",\"payload\":{\"click_context\":\"REPOSITORY_CARD\",\"click_target\":\"REPOSITORY\",\"click_visual_representation\":\"REPOSITORY_NAME_HEADING\",\"actor_id\":null,\"record_id\":5736080,\"originating_url\":\"https://github.com/topics/3d\",\"user_id\":null}}' data-hydro-click-hmac=\"f409ec71fa689bb04d504c411bd9676bb200cf6639b2678f72b9af816768dbbf\" data-turbo=\"false\" data-view-component=\"true\" href=\"/FreeCAD/FreeCAD\">\n",
      "            FreeCAD\n",
      "</a> </h3>, <h3 class=\"f3 color-fg-muted text-normal lh-condensed\">\n",
      "<a class=\"Link\" data-hydro-click='{\"event_type\":\"explore.click\",\"payload\":{\"click_context\":\"REPOSITORY_CARD\",\"click_target\":\"OWNER\",\"click_visual_representation\":\"REPOSITORY_OWNER_HEADING\",\"actor_id\":null,\"record_id\":54716382,\"originating_url\":\"https://github.com/topics/3d\",\"user_id\":null}}' data-hydro-click-hmac=\"61f9f002cf1a4e74bf16f253674df30f6d7e65ee4900647326a173ccb8f31afe\" data-turbo=\"false\" data-view-component=\"true\" href=\"/CesiumGS\">\n",
      "            CesiumGS\n",
      "</a>          /\n",
      "          <a class=\"Link text-bold wb-break-word\" data-hydro-click='{\"event_type\":\"explore.click\",\"payload\":{\"click_context\":\"REPOSITORY_CARD\",\"click_target\":\"REPOSITORY\",\"click_visual_representation\":\"REPOSITORY_NAME_HEADING\",\"actor_id\":null,\"record_id\":3606738,\"originating_url\":\"https://github.com/topics/3d\",\"user_id\":null}}' data-hydro-click-hmac=\"415ccd1ea052027e4073ace6132657d6ac12d43cea98b66453bbcdbed555faf5\" data-turbo=\"false\" data-view-component=\"true\" href=\"/CesiumGS/cesium\">\n",
      "            cesium\n",
      "</a> </h3>, <h3 class=\"f3 color-fg-muted text-normal lh-condensed\">\n",
      "<a class=\"Link\" data-hydro-click='{\"event_type\":\"explore.click\",\"payload\":{\"click_context\":\"REPOSITORY_CARD\",\"click_target\":\"OWNER\",\"click_visual_representation\":\"REPOSITORY_OWNER_HEADING\",\"actor_id\":null,\"record_id\":573910,\"originating_url\":\"https://github.com/topics/3d\",\"user_id\":null}}' data-hydro-click-hmac=\"f5b3a8fc92d3f30b4468ca6255d50ef1ef41af4a277e99a44368380d05695b49\" data-turbo=\"false\" data-view-component=\"true\" href=\"/metafizzy\">\n",
      "            metafizzy\n",
      "</a>          /\n",
      "          <a class=\"Link text-bold wb-break-word\" data-hydro-click='{\"event_type\":\"explore.click\",\"payload\":{\"click_context\":\"REPOSITORY_CARD\",\"click_target\":\"REPOSITORY\",\"click_visual_representation\":\"REPOSITORY_NAME_HEADING\",\"actor_id\":null,\"record_id\":174164624,\"originating_url\":\"https://github.com/topics/3d\",\"user_id\":null}}' data-hydro-click-hmac=\"6ef1f8dc07d99135ad796148e15edb48576348e33a218fa22dbb0a3954450801\" data-turbo=\"false\" data-view-component=\"true\" href=\"/metafizzy/zdog\">\n",
      "            zdog\n",
      "</a> </h3>, <h3 class=\"f3 color-fg-muted text-normal lh-condensed\">\n",
      "<a class=\"Link\" data-hydro-click='{\"event_type\":\"explore.click\",\"payload\":{\"click_context\":\"REPOSITORY_CARD\",\"click_target\":\"OWNER\",\"click_visual_representation\":\"REPOSITORY_OWNER_HEADING\",\"actor_id\":null,\"record_id\":23507030,\"originating_url\":\"https://github.com/topics/3d\",\"user_id\":null}}' data-hydro-click-hmac=\"2690981e9e9eeb03ddf9f0f49f0c3167881395f2850f1e2b8012d64f5db4088d\" data-turbo=\"false\" data-view-component=\"true\" href=\"/isl-org\">\n",
      "            isl-org\n",
      "</a>          /\n",
      "          <a class=\"Link text-bold wb-break-word\" data-hydro-click='{\"event_type\":\"explore.click\",\"payload\":{\"click_context\":\"REPOSITORY_CARD\",\"click_target\":\"REPOSITORY\",\"click_visual_representation\":\"REPOSITORY_NAME_HEADING\",\"actor_id\":null,\"record_id\":75413130,\"originating_url\":\"https://github.com/topics/3d\",\"user_id\":null}}' data-hydro-click-hmac=\"3376b3eb05aaf87cba8d79a982e9ed5940507b1d0c89a16fb29986e1bdd5e302\" data-turbo=\"false\" data-view-component=\"true\" href=\"/isl-org/Open3D\">\n",
      "            Open3D\n",
      "</a> </h3>, <h3 class=\"f3 color-fg-muted text-normal lh-condensed\">\n",
      "<a class=\"Link\" data-hydro-click='{\"event_type\":\"explore.click\",\"payload\":{\"click_context\":\"REPOSITORY_CARD\",\"click_target\":\"OWNER\",\"click_visual_representation\":\"REPOSITORY_OWNER_HEADING\",\"actor_id\":null,\"record_id\":52924476,\"originating_url\":\"https://github.com/topics/3d\",\"user_id\":null}}' data-hydro-click-hmac=\"3ef621e0683e557bb6ec46fbf192cfbfdd0fa2e15d1ed98932b3546e43be6655\" data-turbo=\"false\" data-view-component=\"true\" href=\"/blender\">\n",
      "            blender\n",
      "</a>          /\n",
      "          <a class=\"Link text-bold wb-break-word\" data-hydro-click='{\"event_type\":\"explore.click\",\"payload\":{\"click_context\":\"REPOSITORY_CARD\",\"click_target\":\"REPOSITORY\",\"click_visual_representation\":\"REPOSITORY_NAME_HEADING\",\"actor_id\":null,\"record_id\":213916896,\"originating_url\":\"https://github.com/topics/3d\",\"user_id\":null}}' data-hydro-click-hmac=\"ac5fee340bdeebc5fd06dbf09aca394adad6d0a397aa20f51ddee7ea76ed61f0\" data-turbo=\"false\" data-view-component=\"true\" href=\"/blender/blender\">\n",
      "            blender\n",
      "</a> </h3>, <h3 class=\"f3 color-fg-muted text-normal lh-condensed\">\n",
      "<a class=\"Link\" data-hydro-click='{\"event_type\":\"explore.click\",\"payload\":{\"click_context\":\"REPOSITORY_CARD\",\"click_target\":\"OWNER\",\"click_visual_representation\":\"REPOSITORY_OWNER_HEADING\",\"actor_id\":null,\"record_id\":16217333,\"originating_url\":\"https://github.com/topics/3d\",\"user_id\":null}}' data-hydro-click-hmac=\"0077f42015645d900471e0cf0ce8a3d643d649d4fa3ff4d0b3fca48249c1b695\" data-turbo=\"false\" data-view-component=\"true\" href=\"/timzhang642\">\n",
      "            timzhang642\n",
      "</a>          /\n",
      "          <a class=\"Link text-bold wb-break-word\" data-hydro-click='{\"event_type\":\"explore.click\",\"payload\":{\"click_context\":\"REPOSITORY_CARD\",\"click_target\":\"REPOSITORY\",\"click_visual_representation\":\"REPOSITORY_NAME_HEADING\",\"actor_id\":null,\"record_id\":100120455,\"originating_url\":\"https://github.com/topics/3d\",\"user_id\":null}}' data-hydro-click-hmac=\"5ac29541d56b0a4f137b3adb34578840be52d1f547359a52b3f4ac007241de29\" data-turbo=\"false\" data-view-component=\"true\" href=\"/timzhang642/3D-Machine-Learning\">\n",
      "            3D-Machine-Learning\n",
      "</a> </h3>, <h3 class=\"f3 color-fg-muted text-normal lh-condensed\">\n",
      "<a class=\"Link\" data-hydro-click='{\"event_type\":\"explore.click\",\"payload\":{\"click_context\":\"REPOSITORY_CARD\",\"click_target\":\"OWNER\",\"click_visual_representation\":\"REPOSITORY_OWNER_HEADING\",\"actor_id\":null,\"record_id\":6295625,\"originating_url\":\"https://github.com/topics/3d\",\"user_id\":null}}' data-hydro-click-hmac=\"7220683d54951178816028424a94bb30c0e0deb6ed51a32331c4c5a4f1344a62\" data-turbo=\"false\" data-view-component=\"true\" href=\"/a1studmuffin\">\n",
      "            a1studmuffin\n",
      "</a>          /\n",
      "          <a class=\"Link text-bold wb-break-word\" data-hydro-click='{\"event_type\":\"explore.click\",\"payload\":{\"click_context\":\"REPOSITORY_CARD\",\"click_target\":\"REPOSITORY\",\"click_visual_representation\":\"REPOSITORY_NAME_HEADING\",\"actor_id\":null,\"record_id\":61088333,\"originating_url\":\"https://github.com/topics/3d\",\"user_id\":null}}' data-hydro-click-hmac=\"02354cc3f2ad7480715b6a482b5f7f035bd5abedba1fc0faead1894e17a61820\" data-turbo=\"false\" data-view-component=\"true\" href=\"/a1studmuffin/SpaceshipGenerator\">\n",
      "            SpaceshipGenerator\n",
      "</a> </h3>, <h3 class=\"f3 color-fg-muted text-normal lh-condensed\">\n",
      "<a class=\"Link\" data-hydro-click='{\"event_type\":\"explore.click\",\"payload\":{\"click_context\":\"REPOSITORY_CARD\",\"click_target\":\"OWNER\",\"click_visual_representation\":\"REPOSITORY_OWNER_HEADING\",\"actor_id\":null,\"record_id\":5639024,\"originating_url\":\"https://github.com/topics/3d\",\"user_id\":null}}' data-hydro-click-hmac=\"2b46ab94ba783e748930d230cdb4e412a8f4935af6bb89136ae4f1c32f1b5ccb\" data-turbo=\"false\" data-view-component=\"true\" href=\"/domlysz\">\n",
      "            domlysz\n",
      "</a>          /\n",
      "          <a class=\"Link text-bold wb-break-word\" data-hydro-click='{\"event_type\":\"explore.click\",\"payload\":{\"click_context\":\"REPOSITORY_CARD\",\"click_target\":\"REPOSITORY\",\"click_visual_representation\":\"REPOSITORY_NAME_HEADING\",\"actor_id\":null,\"record_id\":19577136,\"originating_url\":\"https://github.com/topics/3d\",\"user_id\":null}}' data-hydro-click-hmac=\"7c97f5ccba5ac252cf18348fde7349654b1bcc5a2849dff71c6c86aa5659f495\" data-turbo=\"false\" data-view-component=\"true\" href=\"/domlysz/BlenderGIS\">\n",
      "            BlenderGIS\n",
      "</a> </h3>, <h3 class=\"f3 color-fg-muted text-normal lh-condensed\">\n",
      "<a class=\"Link\" data-hydro-click='{\"event_type\":\"explore.click\",\"payload\":{\"click_context\":\"REPOSITORY_CARD\",\"click_target\":\"OWNER\",\"click_visual_representation\":\"REPOSITORY_OWNER_HEADING\",\"actor_id\":null,\"record_id\":83981865,\"originating_url\":\"https://github.com/topics/3d\",\"user_id\":null}}' data-hydro-click-hmac=\"253650db0f2b6f83bde31f3af2cb1342ac44f41987dd296e94a08abb4a8b0298\" data-turbo=\"false\" data-view-component=\"true\" href=\"/FyroxEngine\">\n",
      "            FyroxEngine\n",
      "</a>          /\n",
      "          <a class=\"Link text-bold wb-break-word\" data-hydro-click='{\"event_type\":\"explore.click\",\"payload\":{\"click_context\":\"REPOSITORY_CARD\",\"click_target\":\"REPOSITORY\",\"click_visual_representation\":\"REPOSITORY_NAME_HEADING\",\"actor_id\":null,\"record_id\":178597005,\"originating_url\":\"https://github.com/topics/3d\",\"user_id\":null}}' data-hydro-click-hmac=\"be159b4cbb1fd8013a482b98f601fd932ffba3b6f0fe97d9f36a1dc468b54236\" data-turbo=\"false\" data-view-component=\"true\" href=\"/FyroxEngine/Fyrox\">\n",
      "            Fyrox\n",
      "</a> </h3>, <h3 class=\"f3 color-fg-muted text-normal lh-condensed\">\n",
      "<a class=\"Link\" data-hydro-click='{\"event_type\":\"explore.click\",\"payload\":{\"click_context\":\"REPOSITORY_CARD\",\"click_target\":\"OWNER\",\"click_visual_representation\":\"REPOSITORY_OWNER_HEADING\",\"actor_id\":null,\"record_id\":106621677,\"originating_url\":\"https://github.com/topics/3d\",\"user_id\":null}}' data-hydro-click-hmac=\"abbf6c289c0f970c1db3084f56299655da8c3475ed4f0f58d12da5a5ef71d206\" data-turbo=\"false\" data-view-component=\"true\" href=\"/nerfstudio-project\">\n",
      "            nerfstudio-project\n",
      "</a>          /\n",
      "          <a class=\"Link text-bold wb-break-word\" data-hydro-click='{\"event_type\":\"explore.click\",\"payload\":{\"click_context\":\"REPOSITORY_CARD\",\"click_target\":\"REPOSITORY\",\"click_visual_representation\":\"REPOSITORY_NAME_HEADING\",\"actor_id\":null,\"record_id\":498449014,\"originating_url\":\"https://github.com/topics/3d\",\"user_id\":null}}' data-hydro-click-hmac=\"504e0e8c1695e814c24ca3f0fd8dbbc51114256ccaf3459e9b219f23b2157628\" data-turbo=\"false\" data-view-component=\"true\" href=\"/nerfstudio-project/nerfstudio\">\n",
      "            nerfstudio\n",
      "</a> </h3>, <h3 class=\"f3 color-fg-muted text-normal lh-condensed\">\n",
      "<a class=\"Link\" data-hydro-click='{\"event_type\":\"explore.click\",\"payload\":{\"click_context\":\"REPOSITORY_CARD\",\"click_target\":\"OWNER\",\"click_visual_representation\":\"REPOSITORY_OWNER_HEADING\",\"actor_id\":null,\"record_id\":1342004,\"originating_url\":\"https://github.com/topics/3d\",\"user_id\":null}}' data-hydro-click-hmac=\"fefb66c769603a36c83f99d8fcb711851a0c516cf07be3a8a80997d82d0f4ef4\" data-turbo=\"false\" data-view-component=\"true\" href=\"/google\">\n",
      "            google\n",
      "</a>          /\n",
      "          <a class=\"Link text-bold wb-break-word\" data-hydro-click='{\"event_type\":\"explore.click\",\"payload\":{\"click_context\":\"REPOSITORY_CARD\",\"click_target\":\"REPOSITORY\",\"click_visual_representation\":\"REPOSITORY_NAME_HEADING\",\"actor_id\":null,\"record_id\":153651476,\"originating_url\":\"https://github.com/topics/3d\",\"user_id\":null}}' data-hydro-click-hmac=\"0e361312deb28484dffa632561cf40a92e83db0f1472a6f00d4d1f335c18ccbd\" data-turbo=\"false\" data-view-component=\"true\" href=\"/google/model-viewer\">\n",
      "            model-viewer\n",
      "</a> </h3>, <h3 class=\"f3 color-fg-muted text-normal lh-condensed\">\n",
      "<a class=\"Link\" data-hydro-click='{\"event_type\":\"explore.click\",\"payload\":{\"click_context\":\"REPOSITORY_CARD\",\"click_target\":\"OWNER\",\"click_visual_representation\":\"REPOSITORY_OWNER_HEADING\",\"actor_id\":null,\"record_id\":466370,\"originating_url\":\"https://github.com/topics/3d\",\"user_id\":null}}' data-hydro-click-hmac=\"6e27233282417634bd67b72ffd9eb417d80e8683b1df666e55551cc9b8be4532\" data-turbo=\"false\" data-view-component=\"true\" href=\"/openscad\">\n",
      "            openscad\n",
      "</a>          /\n",
      "          <a class=\"Link text-bold wb-break-word\" data-hydro-click='{\"event_type\":\"explore.click\",\"payload\":{\"click_context\":\"REPOSITORY_CARD\",\"click_target\":\"REPOSITORY\",\"click_visual_representation\":\"REPOSITORY_NAME_HEADING\",\"actor_id\":null,\"record_id\":1049088,\"originating_url\":\"https://github.com/topics/3d\",\"user_id\":null}}' data-hydro-click-hmac=\"ce459e10b38eff918a7732ee23229e2547b096565812cfa6a9fb3a60b47ed1bd\" data-turbo=\"false\" data-view-component=\"true\" href=\"/openscad/openscad\">\n",
      "            openscad\n",
      "</a> </h3>, <h3 class=\"f3 color-fg-muted text-normal lh-condensed\">\n",
      "<a class=\"Link\" data-hydro-click='{\"event_type\":\"explore.click\",\"payload\":{\"click_context\":\"REPOSITORY_CARD\",\"click_target\":\"OWNER\",\"click_visual_representation\":\"REPOSITORY_OWNER_HEADING\",\"actor_id\":null,\"record_id\":29911379,\"originating_url\":\"https://github.com/topics/3d\",\"user_id\":null}}' data-hydro-click-hmac=\"f73e50528259296676fd44b4cdcf910acd91b7ec5540ff270bb045e86b1c38d8\" data-turbo=\"false\" data-view-component=\"true\" href=\"/spritejs\">\n",
      "            spritejs\n",
      "</a>          /\n",
      "          <a class=\"Link text-bold wb-break-word\" data-hydro-click='{\"event_type\":\"explore.click\",\"payload\":{\"click_context\":\"REPOSITORY_CARD\",\"click_target\":\"REPOSITORY\",\"click_visual_representation\":\"REPOSITORY_NAME_HEADING\",\"actor_id\":null,\"record_id\":96287699,\"originating_url\":\"https://github.com/topics/3d\",\"user_id\":null}}' data-hydro-click-hmac=\"a56e16d0a40310d1b96aaa49cca27395eceed1a101cf1a0bacaf5355cd7d0b54\" data-turbo=\"false\" data-view-component=\"true\" href=\"/spritejs/spritejs\">\n",
      "            spritejs\n",
      "</a> </h3>]\n"
     ]
    }
   ],
   "source": [
    "# These are all the repositories on the page and all the tags.\n",
    "print(repository_tags)"
   ]
  },
  {
   "cell_type": "markdown",
   "id": "e84d80a8",
   "metadata": {},
   "source": [
    "* There are currently 20 repositories in the site from the output above\n",
    "* Each repository has an a-tag with the username and the repository link"
   ]
  },
  {
   "cell_type": "markdown",
   "id": "07dc2184",
   "metadata": {},
   "source": [
    "- If we inspect the repository_tag, we will find it has a-tags with username and the repository name(note the repo name has the link to the repository/ project file)"
   ]
  },
  {
   "cell_type": "code",
   "execution_count": 40,
   "id": "bf844c1e",
   "metadata": {},
   "outputs": [
    {
     "data": {
      "text/plain": [
       "<h3 class=\"f3 color-fg-muted text-normal lh-condensed\">\n",
       "<a class=\"Link\" data-hydro-click='{\"event_type\":\"explore.click\",\"payload\":{\"click_context\":\"REPOSITORY_CARD\",\"click_target\":\"OWNER\",\"click_visual_representation\":\"REPOSITORY_OWNER_HEADING\",\"actor_id\":null,\"record_id\":97088,\"originating_url\":\"https://github.com/topics/3d\",\"user_id\":null}}' data-hydro-click-hmac=\"4bdbc49d3c05ae7f70b531fbce709a384200b0768554e0172950286a8db30940\" data-turbo=\"false\" data-view-component=\"true\" href=\"/mrdoob\">\n",
       "            mrdoob\n",
       "</a>          /\n",
       "          <a class=\"Link text-bold wb-break-word\" data-hydro-click='{\"event_type\":\"explore.click\",\"payload\":{\"click_context\":\"REPOSITORY_CARD\",\"click_target\":\"REPOSITORY\",\"click_visual_representation\":\"REPOSITORY_NAME_HEADING\",\"actor_id\":null,\"record_id\":576201,\"originating_url\":\"https://github.com/topics/3d\",\"user_id\":null}}' data-hydro-click-hmac=\"517d3d5cb9d89752156923904a4238816bc9b51ab7772f3e3644ce897d8dd4e5\" data-turbo=\"false\" data-view-component=\"true\" href=\"/mrdoob/three.js\">\n",
       "            three.js\n",
       "</a> </h3>"
      ]
     },
     "execution_count": 40,
     "metadata": {},
     "output_type": "execute_result"
    }
   ],
   "source": [
    "repository_tags[0]"
   ]
  },
  {
   "cell_type": "markdown",
   "id": "98ec742f",
   "metadata": {},
   "source": [
    "- Let's look at the first repository tag"
   ]
  },
  {
   "cell_type": "code",
   "execution_count": 61,
   "id": "7e66ab6f",
   "metadata": {},
   "outputs": [],
   "source": [
    "a_tags_repo0 = repository_tags[1].find_all(\"a\")"
   ]
  },
  {
   "cell_type": "code",
   "execution_count": 62,
   "id": "437448a9",
   "metadata": {},
   "outputs": [
    {
     "data": {
      "text/plain": [
       "[<a class=\"Link\" data-hydro-click='{\"event_type\":\"explore.click\",\"payload\":{\"click_context\":\"REPOSITORY_CARD\",\"click_target\":\"OWNER\",\"click_visual_representation\":\"REPOSITORY_OWNER_HEADING\",\"actor_id\":null,\"record_id\":45790596,\"originating_url\":\"https://github.com/topics/3d\",\"user_id\":null}}' data-hydro-click-hmac=\"14658fab6217ec4ba70f16dd98006d4334793fae49cc25ce2e1c0bb5a8950006\" data-turbo=\"false\" data-view-component=\"true\" href=\"/pmndrs\">\n",
       "             pmndrs\n",
       " </a>,\n",
       " <a class=\"Link text-bold wb-break-word\" data-hydro-click='{\"event_type\":\"explore.click\",\"payload\":{\"click_context\":\"REPOSITORY_CARD\",\"click_target\":\"REPOSITORY\",\"click_visual_representation\":\"REPOSITORY_NAME_HEADING\",\"actor_id\":null,\"record_id\":172521926,\"originating_url\":\"https://github.com/topics/3d\",\"user_id\":null}}' data-hydro-click-hmac=\"629be4efc1260d27fe29201a1901eb808cbf995e4a51d877282b7164242dbadf\" data-turbo=\"false\" data-view-component=\"true\" href=\"/pmndrs/react-three-fiber\">\n",
       "             react-three-fiber\n",
       " </a>]"
      ]
     },
     "execution_count": 62,
     "metadata": {},
     "output_type": "execute_result"
    }
   ],
   "source": [
    "a_tags_repo0"
   ]
  },
  {
   "cell_type": "markdown",
   "id": "dd21d934",
   "metadata": {},
   "source": [
    "> Repository 0 has two \"a-tags\". Containing the user name and the repository name."
   ]
  },
  {
   "cell_type": "code",
   "execution_count": 60,
   "id": "c91e0871",
   "metadata": {},
   "outputs": [
    {
     "data": {
      "text/plain": [
       "'mrdoob'"
      ]
     },
     "execution_count": 60,
     "metadata": {},
     "output_type": "execute_result"
    }
   ],
   "source": [
    "# We can take the first a-tag and extract the user name\n",
    "a_tags_repo0[0].text.strip()"
   ]
  },
  {
   "cell_type": "code",
   "execution_count": 44,
   "id": "c00d095b",
   "metadata": {},
   "outputs": [
    {
     "data": {
      "text/plain": [
       "'three.js'"
      ]
     },
     "execution_count": 44,
     "metadata": {},
     "output_type": "execute_result"
    }
   ],
   "source": [
    "# We can take the first a-tag and extract the repository\n",
    "a_tags_repo0[1].text.strip()"
   ]
  },
  {
   "cell_type": "code",
   "execution_count": 45,
   "id": "c7131224",
   "metadata": {},
   "outputs": [
    {
     "name": "stdout",
     "output_type": "stream",
     "text": [
      "https://github.com/mrdoob/three.js\n"
     ]
    }
   ],
   "source": [
    "# We can take the first a-tag and extract the repository URL\n",
    "base_url = \"https://github.com\"\n",
    "repo_url = base_url + a_tags_repo0[1][\"href\"]\n",
    "\n",
    "print(repo_url)"
   ]
  },
  {
   "cell_type": "code",
   "execution_count": 46,
   "id": "ea6af3be",
   "metadata": {},
   "outputs": [],
   "source": [
    "# We can take the number of stars by inspecting the page.\n",
    "num_of_stars = soup_topic.find_all(\"span\", class_ = \"Counter js-social-count\")"
   ]
  },
  {
   "cell_type": "code",
   "execution_count": 47,
   "id": "bba93dca",
   "metadata": {},
   "outputs": [
    {
     "data": {
      "text/plain": [
       "20"
      ]
     },
     "execution_count": 47,
     "metadata": {},
     "output_type": "execute_result"
    }
   ],
   "source": [
    "len(num_of_stars)"
   ]
  },
  {
   "cell_type": "code",
   "execution_count": 48,
   "id": "07eb69fe",
   "metadata": {},
   "outputs": [
    {
     "name": "stdout",
     "output_type": "stream",
     "text": [
      "[<span aria-label=\"94169 users starred this repository\" class=\"Counter js-social-count\" data-plural-suffix=\"users starred this repository\" data-singular-suffix=\"user starred this repository\" data-turbo-replace=\"true\" data-view-component=\"true\" id=\"repo-stars-counter-star\" title=\"94,169\">94.2k</span>, <span aria-label=\"23625 users starred this repository\" class=\"Counter js-social-count\" data-plural-suffix=\"users starred this repository\" data-singular-suffix=\"user starred this repository\" data-turbo-replace=\"true\" data-view-component=\"true\" id=\"repo-stars-counter-star\" title=\"23,625\">23.6k</span>, <span aria-label=\"21849 users starred this repository\" class=\"Counter js-social-count\" data-plural-suffix=\"users starred this repository\" data-singular-suffix=\"user starred this repository\" data-turbo-replace=\"true\" data-view-component=\"true\" id=\"repo-stars-counter-star\" title=\"21,849\">21.8k</span>, <span aria-label=\"21270 users starred this repository\" class=\"Counter js-social-count\" data-plural-suffix=\"users starred this repository\" data-singular-suffix=\"user starred this repository\" data-turbo-replace=\"true\" data-view-component=\"true\" id=\"repo-stars-counter-star\" title=\"21,270\">21.3k</span>, <span aria-label=\"17721 users starred this repository\" class=\"Counter js-social-count\" data-plural-suffix=\"users starred this repository\" data-singular-suffix=\"user starred this repository\" data-turbo-replace=\"true\" data-view-component=\"true\" id=\"repo-stars-counter-star\" title=\"17,721\">17.7k</span>, <span aria-label=\"15966 users starred this repository\" class=\"Counter js-social-count\" data-plural-suffix=\"users starred this repository\" data-singular-suffix=\"user starred this repository\" data-turbo-replace=\"true\" data-view-component=\"true\" id=\"repo-stars-counter-star\" title=\"15,966\">16k</span>, <span aria-label=\"15644 users starred this repository\" class=\"Counter js-social-count\" data-plural-suffix=\"users starred this repository\" data-singular-suffix=\"user starred this repository\" data-turbo-replace=\"true\" data-view-component=\"true\" id=\"repo-stars-counter-star\" title=\"15,644\">15.6k</span>, <span aria-label=\"14971 users starred this repository\" class=\"Counter js-social-count\" data-plural-suffix=\"users starred this repository\" data-singular-suffix=\"user starred this repository\" data-turbo-replace=\"true\" data-view-component=\"true\" id=\"repo-stars-counter-star\" title=\"14,971\">15k</span>, <span aria-label=\"10888 users starred this repository\" class=\"Counter js-social-count\" data-plural-suffix=\"users starred this repository\" data-singular-suffix=\"user starred this repository\" data-turbo-replace=\"true\" data-view-component=\"true\" id=\"repo-stars-counter-star\" title=\"10,888\">10.9k</span>, <span aria-label=\"9986 users starred this repository\" class=\"Counter js-social-count\" data-plural-suffix=\"users starred this repository\" data-singular-suffix=\"user starred this repository\" data-turbo-replace=\"true\" data-view-component=\"true\" id=\"repo-stars-counter-star\" title=\"9,986\">10k</span>, <span aria-label=\"9364 users starred this repository\" class=\"Counter js-social-count\" data-plural-suffix=\"users starred this repository\" data-singular-suffix=\"user starred this repository\" data-turbo-replace=\"true\" data-view-component=\"true\" id=\"repo-stars-counter-star\" title=\"9,364\">9.4k</span>, <span aria-label=\"9305 users starred this repository\" class=\"Counter js-social-count\" data-plural-suffix=\"users starred this repository\" data-singular-suffix=\"user starred this repository\" data-turbo-replace=\"true\" data-view-component=\"true\" id=\"repo-stars-counter-star\" title=\"9,305\">9.3k</span>, <span aria-label=\"9086 users starred this repository\" class=\"Counter js-social-count\" data-plural-suffix=\"users starred this repository\" data-singular-suffix=\"user starred this repository\" data-turbo-replace=\"true\" data-view-component=\"true\" id=\"repo-stars-counter-star\" title=\"9,086\">9.1k</span>, <span aria-label=\"7447 users starred this repository\" class=\"Counter js-social-count\" data-plural-suffix=\"users starred this repository\" data-singular-suffix=\"user starred this repository\" data-turbo-replace=\"true\" data-view-component=\"true\" id=\"repo-stars-counter-star\" title=\"7,447\">7.4k</span>, <span aria-label=\"6625 users starred this repository\" class=\"Counter js-social-count\" data-plural-suffix=\"users starred this repository\" data-singular-suffix=\"user starred this repository\" data-turbo-replace=\"true\" data-view-component=\"true\" id=\"repo-stars-counter-star\" title=\"6,625\">6.6k</span>, <span aria-label=\"6488 users starred this repository\" class=\"Counter js-social-count\" data-plural-suffix=\"users starred this repository\" data-singular-suffix=\"user starred this repository\" data-turbo-replace=\"true\" data-view-component=\"true\" id=\"repo-stars-counter-star\" title=\"6,488\">6.5k</span>, <span aria-label=\"6373 users starred this repository\" class=\"Counter js-social-count\" data-plural-suffix=\"users starred this repository\" data-singular-suffix=\"user starred this repository\" data-turbo-replace=\"true\" data-view-component=\"true\" id=\"repo-stars-counter-star\" title=\"6,373\">6.4k</span>, <span aria-label=\"5919 users starred this repository\" class=\"Counter js-social-count\" data-plural-suffix=\"users starred this repository\" data-singular-suffix=\"user starred this repository\" data-turbo-replace=\"true\" data-view-component=\"true\" id=\"repo-stars-counter-star\" title=\"5,919\">5.9k</span>, <span aria-label=\"5821 users starred this repository\" class=\"Counter js-social-count\" data-plural-suffix=\"users starred this repository\" data-singular-suffix=\"user starred this repository\" data-turbo-replace=\"true\" data-view-component=\"true\" id=\"repo-stars-counter-star\" title=\"5,821\">5.8k</span>, <span aria-label=\"5240 users starred this repository\" class=\"Counter js-social-count\" data-plural-suffix=\"users starred this repository\" data-singular-suffix=\"user starred this repository\" data-turbo-replace=\"true\" data-view-component=\"true\" id=\"repo-stars-counter-star\" title=\"5,240\">5.2k</span>]\n"
     ]
    }
   ],
   "source": [
    "# These are the tags containing the number of stars( i.e: The rating of the repositories)\n",
    "print(num_of_stars)"
   ]
  },
  {
   "cell_type": "code",
   "execution_count": 55,
   "id": "d4f3e1ed",
   "metadata": {},
   "outputs": [
    {
     "data": {
      "text/plain": [
       "'23.6k'"
      ]
     },
     "execution_count": 55,
     "metadata": {},
     "output_type": "execute_result"
    }
   ],
   "source": [
    "num_of_stars[1].text.strip()"
   ]
  },
  {
   "cell_type": "markdown",
   "id": "555dc4f6",
   "metadata": {},
   "source": [
    "> We convert the \"k\"  into a number from text"
   ]
  },
  {
   "cell_type": "code",
   "execution_count": 56,
   "id": "c4ec7f3b",
   "metadata": {},
   "outputs": [],
   "source": [
    "def stars_to_number(star_as_str):\n",
    "    star_as_str = star_as_str.strip()\n",
    "    if star_as_str[-1] == \"k\":\n",
    "        return int(float(star_as_str[:-1]) *1000)\n",
    "    return star_as_str"
   ]
  },
  {
   "cell_type": "code",
   "execution_count": 58,
   "id": "301c2dbe",
   "metadata": {},
   "outputs": [
    {
     "data": {
      "text/plain": [
       "23600"
      ]
     },
     "execution_count": 58,
     "metadata": {},
     "output_type": "execute_result"
    }
   ],
   "source": [
    "stars_to_number(num_of_stars[1].text.strip())"
   ]
  },
  {
   "cell_type": "code",
   "execution_count": 68,
   "id": "3cd9e306",
   "metadata": {},
   "outputs": [],
   "source": [
    "def get_repos_info(h3_tag, stars_tag):\n",
    "    # this function will get all the repository information.\n",
    "    # this includes the username, repository name + link and number of stars(rating of repository)\n",
    "    a_tags = h3_tag.find_all(\"a\")\n",
    "    username = a_tags[0].text.strip()\n",
    "    reponame = a_tags[1].text.strip()\n",
    "    repo_url = base_url + a_tags[1][\"href\"]\n",
    "    rating = stars_to_number(stars_tag.text.strip())\n",
    "    return username, reponame, rating, repo_url"
   ]
  },
  {
   "cell_type": "markdown",
   "id": "a9a8e955",
   "metadata": {},
   "source": [
    "> * We will use the above function to abtain the information by passing the Repository_tags and the star_tags"
   ]
  },
  {
   "cell_type": "code",
   "execution_count": 69,
   "id": "70069f4c",
   "metadata": {},
   "outputs": [
    {
     "data": {
      "text/plain": [
       "('metafizzy', 'zdog', 10000, 'https://github.com/metafizzy/zdog')"
      ]
     },
     "execution_count": 69,
     "metadata": {},
     "output_type": "execute_result"
    }
   ],
   "source": [
    "get_repos_info(repository_tags[9], num_of_stars[9])"
   ]
  },
  {
   "cell_type": "markdown",
   "id": "d94f9ddc",
   "metadata": {},
   "source": [
    "- Since we have done this for one repository on the page, we do the same for every repository on the page."
   ]
  },
  {
   "cell_type": "code",
   "execution_count": 70,
   "id": "acaa68a6",
   "metadata": {},
   "outputs": [
    {
     "data": {
      "text/plain": [
       "20"
      ]
     },
     "execution_count": 70,
     "metadata": {},
     "output_type": "execute_result"
    }
   ],
   "source": [
    "len(repository_tags)"
   ]
  },
  {
   "cell_type": "code",
   "execution_count": 71,
   "id": "a3ff42b5",
   "metadata": {},
   "outputs": [],
   "source": [
    "topic_information_dict = {\n",
    "    \"usernameID\": [], \n",
    "    \"full_repo_name\": [], \n",
    "    \"ratings\": [], \n",
    "    \"project_link\": []\n",
    "}\n",
    "\n",
    "for i in range(len(repository_tags)):\n",
    "    full_info = get_repos_info(repository_tags[i], num_of_stars[i])\n",
    "    \n",
    "    topic_information_dict[\"usernameID\"].append(full_info[0])\n",
    "    topic_information_dict[\"full_repo_name\"].append(full_info[1]) \n",
    "    topic_information_dict[\"ratings\"].append(full_info[2]) \n",
    "    topic_information_dict[\"project_link\"].append(full_info[3]) "
   ]
  },
  {
   "cell_type": "code",
   "execution_count": 72,
   "id": "452cdb3c",
   "metadata": {
    "collapsed": true
   },
   "outputs": [
    {
     "data": {
      "text/plain": [
       "{'usernameID': ['mrdoob',\n",
       "  'pmndrs',\n",
       "  'libgdx',\n",
       "  'BabylonJS',\n",
       "  'ssloy',\n",
       "  'lettier',\n",
       "  'aframevr',\n",
       "  'FreeCAD',\n",
       "  'CesiumGS',\n",
       "  'metafizzy',\n",
       "  'isl-org',\n",
       "  'blender',\n",
       "  'timzhang642',\n",
       "  'a1studmuffin',\n",
       "  'domlysz',\n",
       "  'FyroxEngine',\n",
       "  'nerfstudio-project',\n",
       "  'google',\n",
       "  'openscad',\n",
       "  'spritejs'],\n",
       " 'full_repo_name': ['three.js',\n",
       "  'react-three-fiber',\n",
       "  'libgdx',\n",
       "  'Babylon.js',\n",
       "  'tinyrenderer',\n",
       "  '3d-game-shaders-for-beginners',\n",
       "  'aframe',\n",
       "  'FreeCAD',\n",
       "  'cesium',\n",
       "  'zdog',\n",
       "  'Open3D',\n",
       "  'blender',\n",
       "  '3D-Machine-Learning',\n",
       "  'SpaceshipGenerator',\n",
       "  'BlenderGIS',\n",
       "  'Fyrox',\n",
       "  'nerfstudio',\n",
       "  'model-viewer',\n",
       "  'openscad',\n",
       "  'spritejs'],\n",
       " 'ratings': [94200,\n",
       "  23600,\n",
       "  21800,\n",
       "  21300,\n",
       "  17700,\n",
       "  16000,\n",
       "  15600,\n",
       "  15000,\n",
       "  10900,\n",
       "  10000,\n",
       "  9400,\n",
       "  9300,\n",
       "  9100,\n",
       "  7400,\n",
       "  6600,\n",
       "  6500,\n",
       "  6400,\n",
       "  5900,\n",
       "  5800,\n",
       "  5200],\n",
       " 'project_link': ['https://github.com/mrdoob/three.js',\n",
       "  'https://github.com/pmndrs/react-three-fiber',\n",
       "  'https://github.com/libgdx/libgdx',\n",
       "  'https://github.com/BabylonJS/Babylon.js',\n",
       "  'https://github.com/ssloy/tinyrenderer',\n",
       "  'https://github.com/lettier/3d-game-shaders-for-beginners',\n",
       "  'https://github.com/aframevr/aframe',\n",
       "  'https://github.com/FreeCAD/FreeCAD',\n",
       "  'https://github.com/CesiumGS/cesium',\n",
       "  'https://github.com/metafizzy/zdog',\n",
       "  'https://github.com/isl-org/Open3D',\n",
       "  'https://github.com/blender/blender',\n",
       "  'https://github.com/timzhang642/3D-Machine-Learning',\n",
       "  'https://github.com/a1studmuffin/SpaceshipGenerator',\n",
       "  'https://github.com/domlysz/BlenderGIS',\n",
       "  'https://github.com/FyroxEngine/Fyrox',\n",
       "  'https://github.com/nerfstudio-project/nerfstudio',\n",
       "  'https://github.com/google/model-viewer',\n",
       "  'https://github.com/openscad/openscad',\n",
       "  'https://github.com/spritejs/spritejs']}"
      ]
     },
     "execution_count": 72,
     "metadata": {},
     "output_type": "execute_result"
    }
   ],
   "source": [
    "topic_information_dict"
   ]
  },
  {
   "cell_type": "code",
   "execution_count": 73,
   "id": "b2ea03da",
   "metadata": {},
   "outputs": [],
   "source": [
    "topic_repos_dataframe = pd.DataFrame(topic_information_dict, index=None)"
   ]
  },
  {
   "cell_type": "markdown",
   "id": "a94195c0",
   "metadata": {},
   "source": [
    "### These are the top repositories for the topic 3D"
   ]
  },
  {
   "cell_type": "code",
   "execution_count": 74,
   "id": "a7456eaa",
   "metadata": {},
   "outputs": [
    {
     "data": {
      "text/html": [
       "<div>\n",
       "<style scoped>\n",
       "    .dataframe tbody tr th:only-of-type {\n",
       "        vertical-align: middle;\n",
       "    }\n",
       "\n",
       "    .dataframe tbody tr th {\n",
       "        vertical-align: top;\n",
       "    }\n",
       "\n",
       "    .dataframe thead th {\n",
       "        text-align: right;\n",
       "    }\n",
       "</style>\n",
       "<table border=\"1\" class=\"dataframe\">\n",
       "  <thead>\n",
       "    <tr style=\"text-align: right;\">\n",
       "      <th></th>\n",
       "      <th>usernameID</th>\n",
       "      <th>full_repo_name</th>\n",
       "      <th>ratings</th>\n",
       "      <th>project_link</th>\n",
       "    </tr>\n",
       "  </thead>\n",
       "  <tbody>\n",
       "    <tr>\n",
       "      <th>0</th>\n",
       "      <td>mrdoob</td>\n",
       "      <td>three.js</td>\n",
       "      <td>94200</td>\n",
       "      <td>https://github.com/mrdoob/three.js</td>\n",
       "    </tr>\n",
       "    <tr>\n",
       "      <th>1</th>\n",
       "      <td>pmndrs</td>\n",
       "      <td>react-three-fiber</td>\n",
       "      <td>23600</td>\n",
       "      <td>https://github.com/pmndrs/react-three-fiber</td>\n",
       "    </tr>\n",
       "    <tr>\n",
       "      <th>2</th>\n",
       "      <td>libgdx</td>\n",
       "      <td>libgdx</td>\n",
       "      <td>21800</td>\n",
       "      <td>https://github.com/libgdx/libgdx</td>\n",
       "    </tr>\n",
       "    <tr>\n",
       "      <th>3</th>\n",
       "      <td>BabylonJS</td>\n",
       "      <td>Babylon.js</td>\n",
       "      <td>21300</td>\n",
       "      <td>https://github.com/BabylonJS/Babylon.js</td>\n",
       "    </tr>\n",
       "    <tr>\n",
       "      <th>4</th>\n",
       "      <td>ssloy</td>\n",
       "      <td>tinyrenderer</td>\n",
       "      <td>17700</td>\n",
       "      <td>https://github.com/ssloy/tinyrenderer</td>\n",
       "    </tr>\n",
       "    <tr>\n",
       "      <th>5</th>\n",
       "      <td>lettier</td>\n",
       "      <td>3d-game-shaders-for-beginners</td>\n",
       "      <td>16000</td>\n",
       "      <td>https://github.com/lettier/3d-game-shaders-for...</td>\n",
       "    </tr>\n",
       "    <tr>\n",
       "      <th>6</th>\n",
       "      <td>aframevr</td>\n",
       "      <td>aframe</td>\n",
       "      <td>15600</td>\n",
       "      <td>https://github.com/aframevr/aframe</td>\n",
       "    </tr>\n",
       "    <tr>\n",
       "      <th>7</th>\n",
       "      <td>FreeCAD</td>\n",
       "      <td>FreeCAD</td>\n",
       "      <td>15000</td>\n",
       "      <td>https://github.com/FreeCAD/FreeCAD</td>\n",
       "    </tr>\n",
       "    <tr>\n",
       "      <th>8</th>\n",
       "      <td>CesiumGS</td>\n",
       "      <td>cesium</td>\n",
       "      <td>10900</td>\n",
       "      <td>https://github.com/CesiumGS/cesium</td>\n",
       "    </tr>\n",
       "    <tr>\n",
       "      <th>9</th>\n",
       "      <td>metafizzy</td>\n",
       "      <td>zdog</td>\n",
       "      <td>10000</td>\n",
       "      <td>https://github.com/metafizzy/zdog</td>\n",
       "    </tr>\n",
       "    <tr>\n",
       "      <th>10</th>\n",
       "      <td>isl-org</td>\n",
       "      <td>Open3D</td>\n",
       "      <td>9400</td>\n",
       "      <td>https://github.com/isl-org/Open3D</td>\n",
       "    </tr>\n",
       "    <tr>\n",
       "      <th>11</th>\n",
       "      <td>blender</td>\n",
       "      <td>blender</td>\n",
       "      <td>9300</td>\n",
       "      <td>https://github.com/blender/blender</td>\n",
       "    </tr>\n",
       "    <tr>\n",
       "      <th>12</th>\n",
       "      <td>timzhang642</td>\n",
       "      <td>3D-Machine-Learning</td>\n",
       "      <td>9100</td>\n",
       "      <td>https://github.com/timzhang642/3D-Machine-Lear...</td>\n",
       "    </tr>\n",
       "    <tr>\n",
       "      <th>13</th>\n",
       "      <td>a1studmuffin</td>\n",
       "      <td>SpaceshipGenerator</td>\n",
       "      <td>7400</td>\n",
       "      <td>https://github.com/a1studmuffin/SpaceshipGener...</td>\n",
       "    </tr>\n",
       "    <tr>\n",
       "      <th>14</th>\n",
       "      <td>domlysz</td>\n",
       "      <td>BlenderGIS</td>\n",
       "      <td>6600</td>\n",
       "      <td>https://github.com/domlysz/BlenderGIS</td>\n",
       "    </tr>\n",
       "    <tr>\n",
       "      <th>15</th>\n",
       "      <td>FyroxEngine</td>\n",
       "      <td>Fyrox</td>\n",
       "      <td>6500</td>\n",
       "      <td>https://github.com/FyroxEngine/Fyrox</td>\n",
       "    </tr>\n",
       "    <tr>\n",
       "      <th>16</th>\n",
       "      <td>nerfstudio-project</td>\n",
       "      <td>nerfstudio</td>\n",
       "      <td>6400</td>\n",
       "      <td>https://github.com/nerfstudio-project/nerfstudio</td>\n",
       "    </tr>\n",
       "    <tr>\n",
       "      <th>17</th>\n",
       "      <td>google</td>\n",
       "      <td>model-viewer</td>\n",
       "      <td>5900</td>\n",
       "      <td>https://github.com/google/model-viewer</td>\n",
       "    </tr>\n",
       "    <tr>\n",
       "      <th>18</th>\n",
       "      <td>openscad</td>\n",
       "      <td>openscad</td>\n",
       "      <td>5800</td>\n",
       "      <td>https://github.com/openscad/openscad</td>\n",
       "    </tr>\n",
       "    <tr>\n",
       "      <th>19</th>\n",
       "      <td>spritejs</td>\n",
       "      <td>spritejs</td>\n",
       "      <td>5200</td>\n",
       "      <td>https://github.com/spritejs/spritejs</td>\n",
       "    </tr>\n",
       "  </tbody>\n",
       "</table>\n",
       "</div>"
      ],
      "text/plain": [
       "            usernameID                 full_repo_name  ratings  \\\n",
       "0               mrdoob                       three.js    94200   \n",
       "1               pmndrs              react-three-fiber    23600   \n",
       "2               libgdx                         libgdx    21800   \n",
       "3            BabylonJS                     Babylon.js    21300   \n",
       "4                ssloy                   tinyrenderer    17700   \n",
       "5              lettier  3d-game-shaders-for-beginners    16000   \n",
       "6             aframevr                         aframe    15600   \n",
       "7              FreeCAD                        FreeCAD    15000   \n",
       "8             CesiumGS                         cesium    10900   \n",
       "9            metafizzy                           zdog    10000   \n",
       "10             isl-org                         Open3D     9400   \n",
       "11             blender                        blender     9300   \n",
       "12         timzhang642            3D-Machine-Learning     9100   \n",
       "13        a1studmuffin             SpaceshipGenerator     7400   \n",
       "14             domlysz                     BlenderGIS     6600   \n",
       "15         FyroxEngine                          Fyrox     6500   \n",
       "16  nerfstudio-project                     nerfstudio     6400   \n",
       "17              google                   model-viewer     5900   \n",
       "18            openscad                       openscad     5800   \n",
       "19            spritejs                       spritejs     5200   \n",
       "\n",
       "                                         project_link  \n",
       "0                  https://github.com/mrdoob/three.js  \n",
       "1         https://github.com/pmndrs/react-three-fiber  \n",
       "2                    https://github.com/libgdx/libgdx  \n",
       "3             https://github.com/BabylonJS/Babylon.js  \n",
       "4               https://github.com/ssloy/tinyrenderer  \n",
       "5   https://github.com/lettier/3d-game-shaders-for...  \n",
       "6                  https://github.com/aframevr/aframe  \n",
       "7                  https://github.com/FreeCAD/FreeCAD  \n",
       "8                  https://github.com/CesiumGS/cesium  \n",
       "9                   https://github.com/metafizzy/zdog  \n",
       "10                  https://github.com/isl-org/Open3D  \n",
       "11                 https://github.com/blender/blender  \n",
       "12  https://github.com/timzhang642/3D-Machine-Lear...  \n",
       "13  https://github.com/a1studmuffin/SpaceshipGener...  \n",
       "14              https://github.com/domlysz/BlenderGIS  \n",
       "15               https://github.com/FyroxEngine/Fyrox  \n",
       "16   https://github.com/nerfstudio-project/nerfstudio  \n",
       "17             https://github.com/google/model-viewer  \n",
       "18               https://github.com/openscad/openscad  \n",
       "19               https://github.com/spritejs/spritejs  "
      ]
     },
     "execution_count": 74,
     "metadata": {},
     "output_type": "execute_result"
    }
   ],
   "source": [
    "topic_repos_dataframe"
   ]
  },
  {
   "cell_type": "markdown",
   "id": "34370643",
   "metadata": {},
   "source": [
    "- Let's now do the same for all topics not just 3D by creating a single function."
   ]
  },
  {
   "cell_type": "code",
   "execution_count": 89,
   "id": "432f3ce4",
   "metadata": {},
   "outputs": [],
   "source": [
    "def topics_in_github(topic_url):\n",
    "    response = requests.get(topic_url)\n",
    "    if response.status_code != 200:\n",
    "        raise Exception (f\"Failed to load page {topic_url}\")\n",
    "    soup_topic = BeautifulSoup(response.text, \"html.parser\")\n",
    "    \n",
    "    \n",
    "    \n",
    "    # We then need the Repo_tags.This contains the Username, Repo_URL and Repo_URL\n",
    "    repository_tags = soup_topic.find_all(\"h3\", class_ = \"f3 color-fg-muted text-normal lh-condensed\")\n",
    "    \n",
    "    # We then need the Star_tags.This contains the Ratings for this project\n",
    "    num_of_stars = soup_topic.find_all(\"span\", class_ = \"Counter js-social-count\")\n",
    "    \n",
    "    # We can then find the repository information\n",
    "    topic_information_dict = {\n",
    "        \"usernameID\": [], \n",
    "        \"full_repo_name\": [], \n",
    "        \"ratings\": [], \n",
    "        \"project_link\": []\n",
    "    }\n",
    "\n",
    "    for i in range(len(repository_tags)):\n",
    "        full_info = get_repos_info(repository_tags[i], num_of_stars[i])\n",
    "\n",
    "        topic_information_dict[\"usernameID\"].append(full_info[0])\n",
    "        topic_information_dict[\"full_repo_name\"].append(full_info[1]) \n",
    "        topic_information_dict[\"ratings\"].append(full_info[2]) \n",
    "        topic_information_dict[\"project_link\"].append(full_info[3]) \n",
    "        \n",
    "    return pd.DataFrame(topic_information_dict, index=None)"
   ]
  },
  {
   "cell_type": "code",
   "execution_count": 90,
   "id": "c546f6a1",
   "metadata": {},
   "outputs": [
    {
     "data": {
      "text/plain": [
       "['https://github.com/topics/3d',\n",
       " 'https://github.com/topics/ajax',\n",
       " 'https://github.com/topics/algorithm',\n",
       " 'https://github.com/topics/amphp',\n",
       " 'https://github.com/topics/android',\n",
       " 'https://github.com/topics/angular',\n",
       " 'https://github.com/topics/ansible',\n",
       " 'https://github.com/topics/api',\n",
       " 'https://github.com/topics/arduino',\n",
       " 'https://github.com/topics/aspnet',\n",
       " 'https://github.com/topics/atom',\n",
       " 'https://github.com/topics/awesome',\n",
       " 'https://github.com/topics/aws',\n",
       " 'https://github.com/topics/azure',\n",
       " 'https://github.com/topics/babel',\n",
       " 'https://github.com/topics/bash',\n",
       " 'https://github.com/topics/bitcoin',\n",
       " 'https://github.com/topics/bootstrap',\n",
       " 'https://github.com/topics/bot',\n",
       " 'https://github.com/topics/c',\n",
       " 'https://github.com/topics/chrome',\n",
       " 'https://github.com/topics/chrome-extension',\n",
       " 'https://github.com/topics/cli',\n",
       " 'https://github.com/topics/clojure',\n",
       " 'https://github.com/topics/code-quality',\n",
       " 'https://github.com/topics/code-review',\n",
       " 'https://github.com/topics/compiler',\n",
       " 'https://github.com/topics/continuous-integration',\n",
       " 'https://github.com/topics/covid-19',\n",
       " 'https://github.com/topics/cpp']"
      ]
     },
     "execution_count": 90,
     "metadata": {},
     "output_type": "execute_result"
    }
   ],
   "source": [
    "# From the topics URl we can choose a topic and get information from each using the function above.\n",
    "topic_titles_url    "
   ]
  },
  {
   "cell_type": "code",
   "execution_count": 91,
   "id": "ce064d55",
   "metadata": {},
   "outputs": [],
   "source": [
    "topic_7_url = topic_titles_url[7]"
   ]
  },
  {
   "cell_type": "code",
   "execution_count": 92,
   "id": "59e69ad9",
   "metadata": {},
   "outputs": [
    {
     "data": {
      "text/plain": [
       "'https://github.com/topics/api'"
      ]
     },
     "execution_count": 92,
     "metadata": {},
     "output_type": "execute_result"
    }
   ],
   "source": [
    "topic_7_url"
   ]
  },
  {
   "cell_type": "code",
   "execution_count": 93,
   "id": "37effd51",
   "metadata": {},
   "outputs": [
    {
     "data": {
      "text/html": [
       "<div>\n",
       "<style scoped>\n",
       "    .dataframe tbody tr th:only-of-type {\n",
       "        vertical-align: middle;\n",
       "    }\n",
       "\n",
       "    .dataframe tbody tr th {\n",
       "        vertical-align: top;\n",
       "    }\n",
       "\n",
       "    .dataframe thead th {\n",
       "        text-align: right;\n",
       "    }\n",
       "</style>\n",
       "<table border=\"1\" class=\"dataframe\">\n",
       "  <thead>\n",
       "    <tr style=\"text-align: right;\">\n",
       "      <th></th>\n",
       "      <th>usernameID</th>\n",
       "      <th>full_repo_name</th>\n",
       "      <th>ratings</th>\n",
       "      <th>project_link</th>\n",
       "    </tr>\n",
       "  </thead>\n",
       "  <tbody>\n",
       "    <tr>\n",
       "      <th>0</th>\n",
       "      <td>public-apis</td>\n",
       "      <td>public-apis</td>\n",
       "      <td>255000</td>\n",
       "      <td>https://github.com/public-apis/public-apis</td>\n",
       "    </tr>\n",
       "    <tr>\n",
       "      <th>1</th>\n",
       "      <td>neovim</td>\n",
       "      <td>neovim</td>\n",
       "      <td>69100</td>\n",
       "      <td>https://github.com/neovim/neovim</td>\n",
       "    </tr>\n",
       "    <tr>\n",
       "      <th>2</th>\n",
       "      <td>tiangolo</td>\n",
       "      <td>fastapi</td>\n",
       "      <td>62100</td>\n",
       "      <td>https://github.com/tiangolo/fastapi</td>\n",
       "    </tr>\n",
       "    <tr>\n",
       "      <th>3</th>\n",
       "      <td>strapi</td>\n",
       "      <td>strapi</td>\n",
       "      <td>55800</td>\n",
       "      <td>https://github.com/strapi/strapi</td>\n",
       "    </tr>\n",
       "    <tr>\n",
       "      <th>4</th>\n",
       "      <td>hoppscotch</td>\n",
       "      <td>hoppscotch</td>\n",
       "      <td>54200</td>\n",
       "      <td>https://github.com/hoppscotch/hoppscotch</td>\n",
       "    </tr>\n",
       "    <tr>\n",
       "      <th>5</th>\n",
       "      <td>ocornut</td>\n",
       "      <td>imgui</td>\n",
       "      <td>50000</td>\n",
       "      <td>https://github.com/ocornut/imgui</td>\n",
       "    </tr>\n",
       "    <tr>\n",
       "      <th>6</th>\n",
       "      <td>meilisearch</td>\n",
       "      <td>meilisearch</td>\n",
       "      <td>38600</td>\n",
       "      <td>https://github.com/meilisearch/meilisearch</td>\n",
       "    </tr>\n",
       "    <tr>\n",
       "      <th>7</th>\n",
       "      <td>slatedocs</td>\n",
       "      <td>slate</td>\n",
       "      <td>35400</td>\n",
       "      <td>https://github.com/slatedocs/slate</td>\n",
       "    </tr>\n",
       "    <tr>\n",
       "      <th>8</th>\n",
       "      <td>Kong</td>\n",
       "      <td>insomnia</td>\n",
       "      <td>30500</td>\n",
       "      <td>https://github.com/Kong/insomnia</td>\n",
       "    </tr>\n",
       "    <tr>\n",
       "      <th>9</th>\n",
       "      <td>hasura</td>\n",
       "      <td>graphql-engine</td>\n",
       "      <td>30100</td>\n",
       "      <td>https://github.com/hasura/graphql-engine</td>\n",
       "    </tr>\n",
       "    <tr>\n",
       "      <th>10</th>\n",
       "      <td>httpie</td>\n",
       "      <td>cli</td>\n",
       "      <td>29100</td>\n",
       "      <td>https://github.com/httpie/cli</td>\n",
       "    </tr>\n",
       "    <tr>\n",
       "      <th>11</th>\n",
       "      <td>ccxt</td>\n",
       "      <td>ccxt</td>\n",
       "      <td>29000</td>\n",
       "      <td>https://github.com/ccxt/ccxt</td>\n",
       "    </tr>\n",
       "    <tr>\n",
       "      <th>12</th>\n",
       "      <td>Binaryify</td>\n",
       "      <td>NeteaseCloudMusicApi</td>\n",
       "      <td>29000</td>\n",
       "      <td>https://github.com/Binaryify/NeteaseCloudMusicApi</td>\n",
       "    </tr>\n",
       "    <tr>\n",
       "      <th>13</th>\n",
       "      <td>trpc</td>\n",
       "      <td>trpc</td>\n",
       "      <td>28500</td>\n",
       "      <td>https://github.com/trpc/trpc</td>\n",
       "    </tr>\n",
       "    <tr>\n",
       "      <th>14</th>\n",
       "      <td>YMFE</td>\n",
       "      <td>yapi</td>\n",
       "      <td>26500</td>\n",
       "      <td>https://github.com/YMFE/yapi</td>\n",
       "    </tr>\n",
       "    <tr>\n",
       "      <th>15</th>\n",
       "      <td>encode</td>\n",
       "      <td>django-rest-framework</td>\n",
       "      <td>26200</td>\n",
       "      <td>https://github.com/encode/django-rest-framework</td>\n",
       "    </tr>\n",
       "    <tr>\n",
       "      <th>16</th>\n",
       "      <td>littlecodersh</td>\n",
       "      <td>ItChat</td>\n",
       "      <td>24200</td>\n",
       "      <td>https://github.com/littlecodersh/ItChat</td>\n",
       "    </tr>\n",
       "    <tr>\n",
       "      <th>17</th>\n",
       "      <td>directus</td>\n",
       "      <td>directus</td>\n",
       "      <td>23000</td>\n",
       "      <td>https://github.com/directus/directus</td>\n",
       "    </tr>\n",
       "    <tr>\n",
       "      <th>18</th>\n",
       "      <td>microsoft</td>\n",
       "      <td>api-guidelines</td>\n",
       "      <td>21700</td>\n",
       "      <td>https://github.com/microsoft/api-guidelines</td>\n",
       "    </tr>\n",
       "    <tr>\n",
       "      <th>19</th>\n",
       "      <td>shieldfy</td>\n",
       "      <td>API-Security-Checklist</td>\n",
       "      <td>21200</td>\n",
       "      <td>https://github.com/shieldfy/API-Security-Check...</td>\n",
       "    </tr>\n",
       "  </tbody>\n",
       "</table>\n",
       "</div>"
      ],
      "text/plain": [
       "       usernameID          full_repo_name  ratings  \\\n",
       "0     public-apis             public-apis   255000   \n",
       "1          neovim                  neovim    69100   \n",
       "2        tiangolo                 fastapi    62100   \n",
       "3          strapi                  strapi    55800   \n",
       "4      hoppscotch              hoppscotch    54200   \n",
       "5         ocornut                   imgui    50000   \n",
       "6     meilisearch             meilisearch    38600   \n",
       "7       slatedocs                   slate    35400   \n",
       "8            Kong                insomnia    30500   \n",
       "9          hasura          graphql-engine    30100   \n",
       "10         httpie                     cli    29100   \n",
       "11           ccxt                    ccxt    29000   \n",
       "12      Binaryify    NeteaseCloudMusicApi    29000   \n",
       "13           trpc                    trpc    28500   \n",
       "14           YMFE                    yapi    26500   \n",
       "15         encode   django-rest-framework    26200   \n",
       "16  littlecodersh                  ItChat    24200   \n",
       "17       directus                directus    23000   \n",
       "18      microsoft          api-guidelines    21700   \n",
       "19       shieldfy  API-Security-Checklist    21200   \n",
       "\n",
       "                                         project_link  \n",
       "0          https://github.com/public-apis/public-apis  \n",
       "1                    https://github.com/neovim/neovim  \n",
       "2                 https://github.com/tiangolo/fastapi  \n",
       "3                    https://github.com/strapi/strapi  \n",
       "4            https://github.com/hoppscotch/hoppscotch  \n",
       "5                    https://github.com/ocornut/imgui  \n",
       "6          https://github.com/meilisearch/meilisearch  \n",
       "7                  https://github.com/slatedocs/slate  \n",
       "8                    https://github.com/Kong/insomnia  \n",
       "9            https://github.com/hasura/graphql-engine  \n",
       "10                      https://github.com/httpie/cli  \n",
       "11                       https://github.com/ccxt/ccxt  \n",
       "12  https://github.com/Binaryify/NeteaseCloudMusicApi  \n",
       "13                       https://github.com/trpc/trpc  \n",
       "14                       https://github.com/YMFE/yapi  \n",
       "15    https://github.com/encode/django-rest-framework  \n",
       "16            https://github.com/littlecodersh/ItChat  \n",
       "17               https://github.com/directus/directus  \n",
       "18        https://github.com/microsoft/api-guidelines  \n",
       "19  https://github.com/shieldfy/API-Security-Check...  "
      ]
     },
     "execution_count": 93,
     "metadata": {},
     "output_type": "execute_result"
    }
   ],
   "source": [
    "topic_7 = topics_in_github(topic_7_url)\n",
    "topic_7"
   ]
  },
  {
   "cell_type": "code",
   "execution_count": null,
   "id": "441a665b",
   "metadata": {},
   "outputs": [],
   "source": []
  }
 ],
 "metadata": {
  "kernelspec": {
   "display_name": "Python 3 (ipykernel)",
   "language": "python",
   "name": "python3"
  },
  "language_info": {
   "codemirror_mode": {
    "name": "ipython",
    "version": 3
   },
   "file_extension": ".py",
   "mimetype": "text/x-python",
   "name": "python",
   "nbconvert_exporter": "python",
   "pygments_lexer": "ipython3",
   "version": "3.9.13"
  }
 },
 "nbformat": 4,
 "nbformat_minor": 5
}
